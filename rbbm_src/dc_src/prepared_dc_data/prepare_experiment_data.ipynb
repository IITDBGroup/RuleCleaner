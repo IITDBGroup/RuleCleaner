{
 "cells": [
  {
   "cell_type": "code",
   "execution_count": 36,
   "id": "83ad6004",
   "metadata": {},
   "outputs": [],
   "source": [
    "import pandas as pd\n",
    "from rbbm_src.dc_src.DCErrorInjector import inject_error\n",
    "import psycopg2\n",
    "import pickle"
   ]
  },
  {
   "cell_type": "code",
   "execution_count": 37,
   "id": "bc660d0f",
   "metadata": {},
   "outputs": [],
   "source": [
    "conn = psycopg2.connect('dbname=cr user=postgres')"
   ]
  },
  {
   "cell_type": "code",
   "execution_count": null,
   "id": "9a5abd5e",
   "metadata": {},
   "outputs": [],
   "source": []
  },
  {
   "cell_type": "code",
   "execution_count": 38,
   "id": "5e332597",
   "metadata": {},
   "outputs": [
    {
     "name": "stderr",
     "output_type": "stream",
     "text": [
      "/tmp/ipykernel_32144/1217781752.py:5: UserWarning: pandas only supports SQLAlchemy connectable (engine/connection) or database string URI or sqlite3 DBAPI2 connection. Other DBAPI2 objects are not tested. Please consider using SQLAlchemy.\n",
      "  tax = pd.read_sql('select * from tax_test order by random() limit 10000', conn)\n"
     ]
    }
   ],
   "source": [
    "# datasets \n",
    "# hospital = pd.read_sql('select * from hospital_test limit 1000', conn)\n",
    "# 114919\n",
    "\n",
    "tax = pd.read_sql('select * from tax_test order by random() limit 10000', conn)\n",
    "# 1000000 row\n",
    "\n",
    "# adult = pd.read_sql('select * from adult_test', conn)\n",
    "# # 32561 row\n",
    "\n",
    "# airport = pd.read_sql('select * from airport_test', conn)\n",
    "# # 55100 row"
   ]
  },
  {
   "cell_type": "code",
   "execution_count": 39,
   "id": "319361c6",
   "metadata": {},
   "outputs": [
    {
     "data": {
      "text/plain": [
       "(10000, 15)"
      ]
     },
     "execution_count": 39,
     "metadata": {},
     "output_type": "execute_result"
    }
   ],
   "source": [
    "# hospital.shape\n",
    "tax.shape"
   ]
  },
  {
   "cell_type": "code",
   "execution_count": 40,
   "id": "029ff839",
   "metadata": {},
   "outputs": [
    {
     "data": {
      "text/plain": [
       "['fname',\n",
       " 'lname',\n",
       " 'gender',\n",
       " 'areacode',\n",
       " 'phone',\n",
       " 'city',\n",
       " 'state',\n",
       " 'zip',\n",
       " 'maritalstatus',\n",
       " 'haschild',\n",
       " 'salary',\n",
       " 'rate',\n",
       " 'singleexemp',\n",
       " 'marriedexemp',\n",
       " 'childexemp']"
      ]
     },
     "execution_count": 40,
     "metadata": {},
     "output_type": "execute_result"
    }
   ],
   "source": [
    "list(tax)\n",
    "# list(hospital)"
   ]
  },
  {
   "cell_type": "code",
   "execution_count": 41,
   "id": "aecb309c",
   "metadata": {},
   "outputs": [],
   "source": [
    "# hospital_errored = inject_error(df=hospital, exclude_cols=['_tid_'], number_of_errors=50)\n",
    "tax_errored, err_records = inject_error(df=tax, exclude_cols=['_tid_'], number_of_errors=300)"
   ]
  },
  {
   "cell_type": "code",
   "execution_count": 42,
   "id": "282679a2",
   "metadata": {
    "scrolled": true
   },
   "outputs": [
    {
     "data": {
      "text/html": [
       "<div>\n",
       "<style scoped>\n",
       "    .dataframe tbody tr th:only-of-type {\n",
       "        vertical-align: middle;\n",
       "    }\n",
       "\n",
       "    .dataframe tbody tr th {\n",
       "        vertical-align: top;\n",
       "    }\n",
       "\n",
       "    .dataframe thead th {\n",
       "        text-align: right;\n",
       "    }\n",
       "</style>\n",
       "<table border=\"1\" class=\"dataframe\">\n",
       "  <thead>\n",
       "    <tr style=\"text-align: right;\">\n",
       "      <th></th>\n",
       "      <th>fname</th>\n",
       "      <th>lname</th>\n",
       "      <th>gender</th>\n",
       "      <th>areacode</th>\n",
       "      <th>phone</th>\n",
       "      <th>city</th>\n",
       "      <th>state</th>\n",
       "      <th>zip</th>\n",
       "      <th>maritalstatus</th>\n",
       "      <th>haschild</th>\n",
       "      <th>salary</th>\n",
       "      <th>rate</th>\n",
       "      <th>singleexemp</th>\n",
       "      <th>marriedexemp</th>\n",
       "      <th>childexemp</th>\n",
       "      <th>_tid_</th>\n",
       "      <th>is_dirty</th>\n",
       "    </tr>\n",
       "  </thead>\n",
       "  <tbody>\n",
       "    <tr>\n",
       "      <th>64</th>\n",
       "      <td>Karthick</td>\n",
       "      <td>Blom</td>\n",
       "      <td>F</td>\n",
       "      <td>939</td>\n",
       "      <td>1009524</td>\n",
       "      <td>SAN JUAN</td>\n",
       "      <td>PR</td>\n",
       "      <td>00917</td>\n",
       "      <td>S</td>\n",
       "      <td>Y</td>\n",
       "      <td>21000</td>\n",
       "      <td>0.000000</td>\n",
       "      <td>0</td>\n",
       "      <td>0</td>\n",
       "      <td>0</td>\n",
       "      <td>64</td>\n",
       "      <td>True</td>\n",
       "    </tr>\n",
       "    <tr>\n",
       "      <th>100</th>\n",
       "      <td>Jiabin</td>\n",
       "      <td>Grdy</td>\n",
       "      <td>F</td>\n",
       "      <td>262</td>\n",
       "      <td>1001543</td>\n",
       "      <td>CORY</td>\n",
       "      <td>WI</td>\n",
       "      <td>54489</td>\n",
       "      <td>S</td>\n",
       "      <td>Y</td>\n",
       "      <td>35000</td>\n",
       "      <td>5.054533</td>\n",
       "      <td>700</td>\n",
       "      <td>0</td>\n",
       "      <td>400</td>\n",
       "      <td>100</td>\n",
       "      <td>True</td>\n",
       "    </tr>\n",
       "    <tr>\n",
       "      <th>104</th>\n",
       "      <td>Kenn</td>\n",
       "      <td>Heyderhoff</td>\n",
       "      <td>F</td>\n",
       "      <td>435</td>\n",
       "      <td>1004617</td>\n",
       "      <td>SALT LAKE CITY</td>\n",
       "      <td>UT</td>\n",
       "      <td>84144</td>\n",
       "      <td>S</td>\n",
       "      <td>Y</td>\n",
       "      <td>16000</td>\n",
       "      <td>7.000000</td>\n",
       "      <td>3575</td>\n",
       "      <td>0</td>\n",
       "      <td>2475</td>\n",
       "      <td>104</td>\n",
       "      <td>True</td>\n",
       "    </tr>\n",
       "    <tr>\n",
       "      <th>128</th>\n",
       "      <td>Manabu</td>\n",
       "      <td>Blakeman</td>\n",
       "      <td>M</td>\n",
       "      <td>651</td>\n",
       "      <td>1002442</td>\n",
       "      <td>TWIG</td>\n",
       "      <td>MN</td>\n",
       "      <td>55791</td>\n",
       "      <td>M</td>\n",
       "      <td>Y</td>\n",
       "      <td>36500</td>\n",
       "      <td>6.203255</td>\n",
       "      <td>3300</td>\n",
       "      <td>0</td>\n",
       "      <td>3300</td>\n",
       "      <td>128</td>\n",
       "      <td>True</td>\n",
       "    </tr>\n",
       "    <tr>\n",
       "      <th>137</th>\n",
       "      <td>Kornel</td>\n",
       "      <td>Jingmin</td>\n",
       "      <td>F</td>\n",
       "      <td>302</td>\n",
       "      <td>1015757</td>\n",
       "      <td>WILMINGTON</td>\n",
       "      <td>DE</td>\n",
       "      <td>19880</td>\n",
       "      <td>S</td>\n",
       "      <td>Y</td>\n",
       "      <td>86000</td>\n",
       "      <td>5.950000</td>\n",
       "      <td>1300</td>\n",
       "      <td>0</td>\n",
       "      <td>110</td>\n",
       "      <td>137</td>\n",
       "      <td>True</td>\n",
       "    </tr>\n",
       "    <tr>\n",
       "      <th>...</th>\n",
       "      <td>...</td>\n",
       "      <td>...</td>\n",
       "      <td>...</td>\n",
       "      <td>...</td>\n",
       "      <td>...</td>\n",
       "      <td>...</td>\n",
       "      <td>...</td>\n",
       "      <td>...</td>\n",
       "      <td>...</td>\n",
       "      <td>...</td>\n",
       "      <td>...</td>\n",
       "      <td>...</td>\n",
       "      <td>...</td>\n",
       "      <td>...</td>\n",
       "      <td>...</td>\n",
       "      <td>...</td>\n",
       "      <td>...</td>\n",
       "    </tr>\n",
       "    <tr>\n",
       "      <th>9915</th>\n",
       "      <td>Pavan</td>\n",
       "      <td>Nilsson</td>\n",
       "      <td>F</td>\n",
       "      <td>574</td>\n",
       "      <td>1001991</td>\n",
       "      <td>PIMENTO</td>\n",
       "      <td>IN</td>\n",
       "      <td>47866</td>\n",
       "      <td>S</td>\n",
       "      <td>Y</td>\n",
       "      <td>30500</td>\n",
       "      <td>3.400000</td>\n",
       "      <td>1000</td>\n",
       "      <td>0</td>\n",
       "      <td>1000</td>\n",
       "      <td>9915</td>\n",
       "      <td>True</td>\n",
       "    </tr>\n",
       "    <tr>\n",
       "      <th>9921</th>\n",
       "      <td>Bhabani</td>\n",
       "      <td>Araki</td>\n",
       "      <td>M</td>\n",
       "      <td>302</td>\n",
       "      <td>1019687</td>\n",
       "      <td>OKREEK</td>\n",
       "      <td>DE</td>\n",
       "      <td>19717</td>\n",
       "      <td>S</td>\n",
       "      <td>Y</td>\n",
       "      <td>82000</td>\n",
       "      <td>5.950000</td>\n",
       "      <td>110</td>\n",
       "      <td>0</td>\n",
       "      <td>110</td>\n",
       "      <td>9921</td>\n",
       "      <td>True</td>\n",
       "    </tr>\n",
       "    <tr>\n",
       "      <th>9938</th>\n",
       "      <td>Kimikazu</td>\n",
       "      <td>Treiber</td>\n",
       "      <td>F</td>\n",
       "      <td>252</td>\n",
       "      <td>1002414</td>\n",
       "      <td>CHARLOTTE</td>\n",
       "      <td>NC</td>\n",
       "      <td>28288</td>\n",
       "      <td>M</td>\n",
       "      <td>Y</td>\n",
       "      <td>32000</td>\n",
       "      <td>6.403846</td>\n",
       "      <td>0</td>\n",
       "      <td>6600</td>\n",
       "      <td>0</td>\n",
       "      <td>9938</td>\n",
       "      <td>True</td>\n",
       "    </tr>\n",
       "    <tr>\n",
       "      <th>9962</th>\n",
       "      <td>Demin</td>\n",
       "      <td>Dorrscheidt</td>\n",
       "      <td>F</td>\n",
       "      <td>207</td>\n",
       "      <td>1011911</td>\n",
       "      <td>PORTAGE</td>\n",
       "      <td>ME</td>\n",
       "      <td>04768</td>\n",
       "      <td>M</td>\n",
       "      <td>N</td>\n",
       "      <td>45000</td>\n",
       "      <td>8.500000</td>\n",
       "      <td>0</td>\n",
       "      <td>5700</td>\n",
       "      <td>0</td>\n",
       "      <td>9962</td>\n",
       "      <td>True</td>\n",
       "    </tr>\n",
       "    <tr>\n",
       "      <th>9978</th>\n",
       "      <td>Pai</td>\n",
       "      <td>Wechsung</td>\n",
       "      <td>M</td>\n",
       "      <td>315</td>\n",
       "      <td>1001637</td>\n",
       "      <td>AKRON</td>\n",
       "      <td>NY</td>\n",
       "      <td>14001</td>\n",
       "      <td>S</td>\n",
       "      <td>Y</td>\n",
       "      <td>51000</td>\n",
       "      <td>4.249085</td>\n",
       "      <td>0</td>\n",
       "      <td>0</td>\n",
       "      <td>1000</td>\n",
       "      <td>9978</td>\n",
       "      <td>True</td>\n",
       "    </tr>\n",
       "  </tbody>\n",
       "</table>\n",
       "<p>300 rows × 17 columns</p>\n",
       "</div>"
      ],
      "text/plain": [
       "         fname        lname gender areacode    phone            city state  \\\n",
       "64    Karthick         Blom      F      939  1009524        SAN JUAN    PR   \n",
       "100     Jiabin         Grdy      F      262  1001543            CORY    WI   \n",
       "104       Kenn   Heyderhoff      F      435  1004617  SALT LAKE CITY    UT   \n",
       "128     Manabu     Blakeman      M      651  1002442            TWIG    MN   \n",
       "137     Kornel      Jingmin      F      302  1015757      WILMINGTON    DE   \n",
       "...        ...          ...    ...      ...      ...             ...   ...   \n",
       "9915     Pavan      Nilsson      F      574  1001991         PIMENTO    IN   \n",
       "9921   Bhabani        Araki      M      302  1019687          OKREEK    DE   \n",
       "9938  Kimikazu      Treiber      F      252  1002414       CHARLOTTE    NC   \n",
       "9962     Demin  Dorrscheidt      F      207  1011911         PORTAGE    ME   \n",
       "9978       Pai     Wechsung      M      315  1001637           AKRON    NY   \n",
       "\n",
       "        zip maritalstatus haschild  salary      rate  singleexemp  \\\n",
       "64    00917             S        Y   21000  0.000000            0   \n",
       "100   54489             S        Y   35000  5.054533          700   \n",
       "104   84144             S        Y   16000  7.000000         3575   \n",
       "128   55791             M        Y   36500  6.203255         3300   \n",
       "137   19880             S        Y   86000  5.950000         1300   \n",
       "...     ...           ...      ...     ...       ...          ...   \n",
       "9915  47866             S        Y   30500  3.400000         1000   \n",
       "9921  19717             S        Y   82000  5.950000          110   \n",
       "9938  28288             M        Y   32000  6.403846            0   \n",
       "9962  04768             M        N   45000  8.500000            0   \n",
       "9978  14001             S        Y   51000  4.249085            0   \n",
       "\n",
       "      marriedexemp  childexemp  _tid_ is_dirty  \n",
       "64               0           0     64     True  \n",
       "100              0         400    100     True  \n",
       "104              0        2475    104     True  \n",
       "128              0        3300    128     True  \n",
       "137              0         110    137     True  \n",
       "...            ...         ...    ...      ...  \n",
       "9915             0        1000   9915     True  \n",
       "9921             0         110   9921     True  \n",
       "9938          6600           0   9938     True  \n",
       "9962          5700           0   9962     True  \n",
       "9978             0        1000   9978     True  \n",
       "\n",
       "[300 rows x 17 columns]"
      ]
     },
     "execution_count": 42,
     "metadata": {},
     "output_type": "execute_result"
    }
   ],
   "source": [
    "# hospital_errored[hospital_errored['is_dirty']=='True']\n",
    "tax_errored[tax_errored['is_dirty']=='True']"
   ]
  },
  {
   "cell_type": "code",
   "execution_count": 43,
   "id": "1eb01cc0",
   "metadata": {},
   "outputs": [
    {
     "data": {
      "text/plain": [
       "(300, 17)"
      ]
     },
     "execution_count": 43,
     "metadata": {},
     "output_type": "execute_result"
    }
   ],
   "source": [
    "tax_errored[tax_errored['is_dirty']=='True'].shape"
   ]
  },
  {
   "cell_type": "code",
   "execution_count": 44,
   "id": "d70d2fa8",
   "metadata": {},
   "outputs": [
    {
     "data": {
      "text/plain": [
       "['fname',\n",
       " 'lname',\n",
       " 'gender',\n",
       " 'areacode',\n",
       " 'phone',\n",
       " 'city',\n",
       " 'state',\n",
       " 'zip',\n",
       " 'maritalstatus',\n",
       " 'haschild',\n",
       " 'salary',\n",
       " 'rate',\n",
       " 'singleexemp',\n",
       " 'marriedexemp',\n",
       " 'childexemp',\n",
       " '_tid_',\n",
       " 'is_dirty']"
      ]
     },
     "execution_count": 44,
     "metadata": {},
     "output_type": "execute_result"
    }
   ],
   "source": [
    "# list(hospital_errored)\n",
    "list(tax_errored)"
   ]
  },
  {
   "cell_type": "code",
   "execution_count": 45,
   "id": "a69a3634",
   "metadata": {},
   "outputs": [],
   "source": [
    "with open('../prepared_dc_data/error_records_1010.pkl', 'wb') as file:\n",
    "    pickle.dump(err_records, file)\n"
   ]
  },
  {
   "cell_type": "code",
   "execution_count": 46,
   "id": "96c6a7df",
   "metadata": {},
   "outputs": [
    {
     "data": {
      "text/plain": [
       "[]"
      ]
     },
     "execution_count": 46,
     "metadata": {},
     "output_type": "execute_result"
    }
   ],
   "source": [
    "err_records[10]"
   ]
  },
  {
   "cell_type": "code",
   "execution_count": 47,
   "id": "aa00863c",
   "metadata": {},
   "outputs": [],
   "source": [
    "tax_errored.to_csv('/home/opc/author/RBBM/rbbm_src/muse/data/mas/tax.csv', header=None, index=False)\n",
    "# hospital_errored.to_csv('/home/opc/author/RBBM/rbbm_src/muse/data/mas/hospital.csv', header=None, index=False)"
   ]
  }
 ],
 "metadata": {
  "kernelspec": {
   "display_name": "Python 3 (ipykernel)",
   "language": "python",
   "name": "python3"
  },
  "language_info": {
   "codemirror_mode": {
    "name": "ipython",
    "version": 3
   },
   "file_extension": ".py",
   "mimetype": "text/x-python",
   "name": "python",
   "nbconvert_exporter": "python",
   "pygments_lexer": "ipython3",
   "version": "3.8.0"
  }
 },
 "nbformat": 4,
 "nbformat_minor": 5
}

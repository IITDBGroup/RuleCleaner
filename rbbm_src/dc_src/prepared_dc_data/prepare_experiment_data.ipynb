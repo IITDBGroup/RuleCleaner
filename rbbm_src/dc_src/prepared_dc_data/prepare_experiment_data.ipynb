{
 "cells": [
  {
   "cell_type": "code",
   "execution_count": 24,
   "id": "83ad6004",
   "metadata": {},
   "outputs": [],
   "source": [
    "import pandas as pd\n",
    "from rbbm_src.dc_src.DCErrorInjector import inject_error\n",
    "import psycopg2\n",
    "import pickle"
   ]
  },
  {
   "cell_type": "code",
   "execution_count": 25,
   "id": "bc660d0f",
   "metadata": {},
   "outputs": [],
   "source": [
    "conn = psycopg2.connect('dbname=cr user=postgres')"
   ]
  },
  {
   "cell_type": "code",
   "execution_count": 26,
   "id": "5e332597",
   "metadata": {},
   "outputs": [
    {
     "name": "stderr",
     "output_type": "stream",
     "text": [
      "/tmp/ipykernel_32144/1957790149.py:5: UserWarning: pandas only supports SQLAlchemy connectable (engine/connection) or database string URI or sqlite3 DBAPI2 connection. Other DBAPI2 objects are not tested. Please consider using SQLAlchemy.\n",
      "  tax = pd.read_sql('select * from tax_test order by random() limit 5000', conn)\n"
     ]
    }
   ],
   "source": [
    "# datasets \n",
    "# hospital = pd.read_sql('select * from hospital_test limit 1000', conn)\n",
    "# 114919\n",
    "\n",
    "tax = pd.read_sql('select * from tax_test order by random() limit 5000', conn)\n",
    "# 1000000 row\n",
    "\n",
    "# adult = pd.read_sql('select * from adult_test', conn)\n",
    "# # 32561 row\n",
    "\n",
    "# airport = pd.read_sql('select * from airport_test', conn)\n",
    "# # 55100 row"
   ]
  },
  {
   "cell_type": "code",
   "execution_count": 27,
   "id": "319361c6",
   "metadata": {},
   "outputs": [
    {
     "data": {
      "text/plain": [
       "(5000, 15)"
      ]
     },
     "execution_count": 27,
     "metadata": {},
     "output_type": "execute_result"
    }
   ],
   "source": [
    "# hospital.shape\n",
    "tax.shape"
   ]
  },
  {
   "cell_type": "code",
   "execution_count": 28,
   "id": "029ff839",
   "metadata": {},
   "outputs": [
    {
     "data": {
      "text/plain": [
       "['fname',\n",
       " 'lname',\n",
       " 'gender',\n",
       " 'areacode',\n",
       " 'phone',\n",
       " 'city',\n",
       " 'state',\n",
       " 'zip',\n",
       " 'maritalstatus',\n",
       " 'haschild',\n",
       " 'salary',\n",
       " 'rate',\n",
       " 'singleexemp',\n",
       " 'marriedexemp',\n",
       " 'childexemp']"
      ]
     },
     "execution_count": 28,
     "metadata": {},
     "output_type": "execute_result"
    }
   ],
   "source": [
    "list(tax)\n",
    "# list(hospital)"
   ]
  },
  {
   "cell_type": "code",
   "execution_count": 29,
   "id": "aecb309c",
   "metadata": {},
   "outputs": [],
   "source": [
    "# hospital_errored = inject_error(df=hospital, exclude_cols=['_tid_'], number_of_errors=50)\n",
    "tax_errored, err_records = inject_error(df=tax, exclude_cols=['_tid_'], number_of_errors=100)"
   ]
  },
  {
   "cell_type": "code",
   "execution_count": 30,
   "id": "282679a2",
   "metadata": {
    "scrolled": true
   },
   "outputs": [
    {
     "data": {
      "text/html": [
       "<div>\n",
       "<style scoped>\n",
       "    .dataframe tbody tr th:only-of-type {\n",
       "        vertical-align: middle;\n",
       "    }\n",
       "\n",
       "    .dataframe tbody tr th {\n",
       "        vertical-align: top;\n",
       "    }\n",
       "\n",
       "    .dataframe thead th {\n",
       "        text-align: right;\n",
       "    }\n",
       "</style>\n",
       "<table border=\"1\" class=\"dataframe\">\n",
       "  <thead>\n",
       "    <tr style=\"text-align: right;\">\n",
       "      <th></th>\n",
       "      <th>fname</th>\n",
       "      <th>lname</th>\n",
       "      <th>gender</th>\n",
       "      <th>areacode</th>\n",
       "      <th>phone</th>\n",
       "      <th>city</th>\n",
       "      <th>state</th>\n",
       "      <th>zip</th>\n",
       "      <th>maritalstatus</th>\n",
       "      <th>haschild</th>\n",
       "      <th>salary</th>\n",
       "      <th>rate</th>\n",
       "      <th>singleexemp</th>\n",
       "      <th>marriedexemp</th>\n",
       "      <th>childexemp</th>\n",
       "      <th>_tid_</th>\n",
       "      <th>is_dirty</th>\n",
       "    </tr>\n",
       "  </thead>\n",
       "  <tbody>\n",
       "    <tr>\n",
       "      <th>21</th>\n",
       "      <td>Jorma</td>\n",
       "      <td>Schijf</td>\n",
       "      <td>F</td>\n",
       "      <td>304</td>\n",
       "      <td>1015188</td>\n",
       "      <td>PULLMAN</td>\n",
       "      <td>WV</td>\n",
       "      <td>26421</td>\n",
       "      <td>S</td>\n",
       "      <td>Y</td>\n",
       "      <td>14000</td>\n",
       "      <td>3.035000</td>\n",
       "      <td>2000</td>\n",
       "      <td>0</td>\n",
       "      <td>2000</td>\n",
       "      <td>21</td>\n",
       "      <td>True</td>\n",
       "    </tr>\n",
       "    <tr>\n",
       "      <th>52</th>\n",
       "      <td>Rame</td>\n",
       "      <td>Prats</td>\n",
       "      <td>M</td>\n",
       "      <td>425</td>\n",
       "      <td>1002728</td>\n",
       "      <td>ORIENT</td>\n",
       "      <td>WA</td>\n",
       "      <td>99160</td>\n",
       "      <td>S</td>\n",
       "      <td>Y</td>\n",
       "      <td>77500</td>\n",
       "      <td>0.000000</td>\n",
       "      <td>0</td>\n",
       "      <td>0</td>\n",
       "      <td>0</td>\n",
       "      <td>52</td>\n",
       "      <td>True</td>\n",
       "    </tr>\n",
       "    <tr>\n",
       "      <th>54</th>\n",
       "      <td>Atilio</td>\n",
       "      <td>Wichaipanitch</td>\n",
       "      <td>F</td>\n",
       "      <td>478</td>\n",
       "      <td>1000992</td>\n",
       "      <td>NEW ALBANY</td>\n",
       "      <td>GA</td>\n",
       "      <td>30312</td>\n",
       "      <td>M</td>\n",
       "      <td>N</td>\n",
       "      <td>60500</td>\n",
       "      <td>6.000000</td>\n",
       "      <td>0</td>\n",
       "      <td>5400</td>\n",
       "      <td>0</td>\n",
       "      <td>54</td>\n",
       "      <td>True</td>\n",
       "    </tr>\n",
       "    <tr>\n",
       "      <th>107</th>\n",
       "      <td>Leonardo</td>\n",
       "      <td>Gabalda</td>\n",
       "      <td>F</td>\n",
       "      <td>330</td>\n",
       "      <td>1000842</td>\n",
       "      <td>LAS CRUCES</td>\n",
       "      <td>NM</td>\n",
       "      <td>88006</td>\n",
       "      <td>M</td>\n",
       "      <td>N</td>\n",
       "      <td>15000</td>\n",
       "      <td>4.957143</td>\n",
       "      <td>0</td>\n",
       "      <td>6600</td>\n",
       "      <td>0</td>\n",
       "      <td>107</td>\n",
       "      <td>True</td>\n",
       "    </tr>\n",
       "    <tr>\n",
       "      <th>144</th>\n",
       "      <td>Natalija</td>\n",
       "      <td>Constantine</td>\n",
       "      <td>M</td>\n",
       "      <td>939</td>\n",
       "      <td>1001246</td>\n",
       "      <td>PONCE</td>\n",
       "      <td>PR</td>\n",
       "      <td>00730</td>\n",
       "      <td>S</td>\n",
       "      <td>Y</td>\n",
       "      <td>100000</td>\n",
       "      <td>0.000000</td>\n",
       "      <td>0</td>\n",
       "      <td>0</td>\n",
       "      <td>0</td>\n",
       "      <td>144</td>\n",
       "      <td>True</td>\n",
       "    </tr>\n",
       "    <tr>\n",
       "      <th>...</th>\n",
       "      <td>...</td>\n",
       "      <td>...</td>\n",
       "      <td>...</td>\n",
       "      <td>...</td>\n",
       "      <td>...</td>\n",
       "      <td>...</td>\n",
       "      <td>...</td>\n",
       "      <td>...</td>\n",
       "      <td>...</td>\n",
       "      <td>...</td>\n",
       "      <td>...</td>\n",
       "      <td>...</td>\n",
       "      <td>...</td>\n",
       "      <td>...</td>\n",
       "      <td>...</td>\n",
       "      <td>...</td>\n",
       "      <td>...</td>\n",
       "    </tr>\n",
       "    <tr>\n",
       "      <th>4788</th>\n",
       "      <td>Erik</td>\n",
       "      <td>Giguere</td>\n",
       "      <td>M</td>\n",
       "      <td>928</td>\n",
       "      <td>1009423</td>\n",
       "      <td>STORY</td>\n",
       "      <td>WY</td>\n",
       "      <td>82842</td>\n",
       "      <td>M</td>\n",
       "      <td>N</td>\n",
       "      <td>86500</td>\n",
       "      <td>0.000000</td>\n",
       "      <td>0</td>\n",
       "      <td>0</td>\n",
       "      <td>0</td>\n",
       "      <td>4788</td>\n",
       "      <td>True</td>\n",
       "    </tr>\n",
       "    <tr>\n",
       "      <th>4801</th>\n",
       "      <td>Phil</td>\n",
       "      <td>Vieth</td>\n",
       "      <td>F</td>\n",
       "      <td>207</td>\n",
       "      <td>1010565</td>\n",
       "      <td>AUBURN</td>\n",
       "      <td>ME</td>\n",
       "      <td>04210</td>\n",
       "      <td>M</td>\n",
       "      <td>N</td>\n",
       "      <td>17500</td>\n",
       "      <td>8.144160</td>\n",
       "      <td>0</td>\n",
       "      <td>5700</td>\n",
       "      <td>400</td>\n",
       "      <td>4801</td>\n",
       "      <td>True</td>\n",
       "    </tr>\n",
       "    <tr>\n",
       "      <th>4905</th>\n",
       "      <td>Ovidiu</td>\n",
       "      <td>Moshkov</td>\n",
       "      <td>F</td>\n",
       "      <td>401</td>\n",
       "      <td>1001699</td>\n",
       "      <td>WARREN</td>\n",
       "      <td>RI</td>\n",
       "      <td>02885</td>\n",
       "      <td>S</td>\n",
       "      <td>Y</td>\n",
       "      <td>23000</td>\n",
       "      <td>0.000000</td>\n",
       "      <td>0</td>\n",
       "      <td>0</td>\n",
       "      <td>0</td>\n",
       "      <td>4905</td>\n",
       "      <td>True</td>\n",
       "    </tr>\n",
       "    <tr>\n",
       "      <th>4984</th>\n",
       "      <td>Kosta</td>\n",
       "      <td>Faraboschi</td>\n",
       "      <td>M</td>\n",
       "      <td>870</td>\n",
       "      <td>1001848</td>\n",
       "      <td>WINSLOW</td>\n",
       "      <td>AR</td>\n",
       "      <td>72959</td>\n",
       "      <td>S</td>\n",
       "      <td>Y</td>\n",
       "      <td>36000</td>\n",
       "      <td>7.000000</td>\n",
       "      <td>20</td>\n",
       "      <td>0</td>\n",
       "      <td>1500</td>\n",
       "      <td>4984</td>\n",
       "      <td>True</td>\n",
       "    </tr>\n",
       "    <tr>\n",
       "      <th>4998</th>\n",
       "      <td>Yibin</td>\n",
       "      <td>Banare</td>\n",
       "      <td>F</td>\n",
       "      <td>802</td>\n",
       "      <td>1000955</td>\n",
       "      <td>LUNENBURG</td>\n",
       "      <td>VT</td>\n",
       "      <td>05906</td>\n",
       "      <td>M</td>\n",
       "      <td>N</td>\n",
       "      <td>100000</td>\n",
       "      <td>4.815613</td>\n",
       "      <td>0</td>\n",
       "      <td>6600</td>\n",
       "      <td>0</td>\n",
       "      <td>4998</td>\n",
       "      <td>True</td>\n",
       "    </tr>\n",
       "  </tbody>\n",
       "</table>\n",
       "<p>100 rows × 17 columns</p>\n",
       "</div>"
      ],
      "text/plain": [
       "         fname          lname gender areacode    phone        city state  \\\n",
       "21       Jorma         Schijf      F      304  1015188     PULLMAN    WV   \n",
       "52        Rame          Prats      M      425  1002728      ORIENT    WA   \n",
       "54      Atilio  Wichaipanitch      F      478  1000992  NEW ALBANY    GA   \n",
       "107   Leonardo        Gabalda      F      330  1000842  LAS CRUCES    NM   \n",
       "144   Natalija    Constantine      M      939  1001246       PONCE    PR   \n",
       "...        ...            ...    ...      ...      ...         ...   ...   \n",
       "4788      Erik        Giguere      M      928  1009423       STORY    WY   \n",
       "4801      Phil          Vieth      F      207  1010565      AUBURN    ME   \n",
       "4905    Ovidiu        Moshkov      F      401  1001699      WARREN    RI   \n",
       "4984     Kosta     Faraboschi      M      870  1001848     WINSLOW    AR   \n",
       "4998     Yibin         Banare      F      802  1000955   LUNENBURG    VT   \n",
       "\n",
       "        zip maritalstatus haschild  salary      rate  singleexemp  \\\n",
       "21    26421             S        Y   14000  3.035000         2000   \n",
       "52    99160             S        Y   77500  0.000000            0   \n",
       "54    30312             M        N   60500  6.000000            0   \n",
       "107   88006             M        N   15000  4.957143            0   \n",
       "144   00730             S        Y  100000  0.000000            0   \n",
       "...     ...           ...      ...     ...       ...          ...   \n",
       "4788  82842             M        N   86500  0.000000            0   \n",
       "4801  04210             M        N   17500  8.144160            0   \n",
       "4905  02885             S        Y   23000  0.000000            0   \n",
       "4984  72959             S        Y   36000  7.000000           20   \n",
       "4998  05906             M        N  100000  4.815613            0   \n",
       "\n",
       "      marriedexemp  childexemp  _tid_ is_dirty  \n",
       "21               0        2000     21     True  \n",
       "52               0           0     52     True  \n",
       "54            5400           0     54     True  \n",
       "107           6600           0    107     True  \n",
       "144              0           0    144     True  \n",
       "...            ...         ...    ...      ...  \n",
       "4788             0           0   4788     True  \n",
       "4801          5700         400   4801     True  \n",
       "4905             0           0   4905     True  \n",
       "4984             0        1500   4984     True  \n",
       "4998          6600           0   4998     True  \n",
       "\n",
       "[100 rows x 17 columns]"
      ]
     },
     "execution_count": 30,
     "metadata": {},
     "output_type": "execute_result"
    }
   ],
   "source": [
    "# hospital_errored[hospital_errored['is_dirty']=='True']\n",
    "tax_errored[tax_errored['is_dirty']=='True']"
   ]
  },
  {
   "cell_type": "code",
   "execution_count": 31,
   "id": "1eb01cc0",
   "metadata": {},
   "outputs": [
    {
     "data": {
      "text/plain": [
       "(100, 17)"
      ]
     },
     "execution_count": 31,
     "metadata": {},
     "output_type": "execute_result"
    }
   ],
   "source": [
    "tax_errored[tax_errored['is_dirty']=='True'].shape"
   ]
  },
  {
   "cell_type": "code",
   "execution_count": 32,
   "id": "d70d2fa8",
   "metadata": {},
   "outputs": [
    {
     "data": {
      "text/plain": [
       "['fname',\n",
       " 'lname',\n",
       " 'gender',\n",
       " 'areacode',\n",
       " 'phone',\n",
       " 'city',\n",
       " 'state',\n",
       " 'zip',\n",
       " 'maritalstatus',\n",
       " 'haschild',\n",
       " 'salary',\n",
       " 'rate',\n",
       " 'singleexemp',\n",
       " 'marriedexemp',\n",
       " 'childexemp',\n",
       " '_tid_',\n",
       " 'is_dirty']"
      ]
     },
     "execution_count": 32,
     "metadata": {},
     "output_type": "execute_result"
    }
   ],
   "source": [
    "# list(hospital_errored)\n",
    "list(tax_errored)"
   ]
  },
  {
   "cell_type": "code",
   "execution_count": 33,
   "id": "a69a3634",
   "metadata": {},
   "outputs": [],
   "source": [
    "with open('../prepared_dc_data/error_records_1010.pkl', 'wb') as file:\n",
    "    pickle.dump(err_records, file)\n"
   ]
  },
  {
   "cell_type": "code",
   "execution_count": 34,
   "id": "96c6a7df",
   "metadata": {},
   "outputs": [
    {
     "data": {
      "text/plain": [
       "[]"
      ]
     },
     "execution_count": 34,
     "metadata": {},
     "output_type": "execute_result"
    }
   ],
   "source": [
    "err_records[10]"
   ]
  },
  {
   "cell_type": "code",
   "execution_count": 35,
   "id": "aa00863c",
   "metadata": {},
   "outputs": [],
   "source": [
    "tax_errored.to_csv('/home/opc/chenjie/RBBM/rbbm_src/muse/data/mas/tax.csv', header=None, index=False)\n",
    "# hospital_errored.to_csv('/home/opc/chenjie/RBBM/rbbm_src/muse/data/mas/hospital.csv', header=None, index=False)"
   ]
  }
 ],
 "metadata": {
  "kernelspec": {
   "display_name": "Python 3 (ipykernel)",
   "language": "python",
   "name": "python3"
  },
  "language_info": {
   "codemirror_mode": {
    "name": "ipython",
    "version": 3
   },
   "file_extension": ".py",
   "mimetype": "text/x-python",
   "name": "python",
   "nbconvert_exporter": "python",
   "pygments_lexer": "ipython3",
   "version": "3.8.0"
  }
 },
 "nbformat": 4,
 "nbformat_minor": 5
}

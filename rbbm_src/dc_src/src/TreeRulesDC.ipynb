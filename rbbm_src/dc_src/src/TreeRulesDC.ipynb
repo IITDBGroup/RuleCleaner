{
 "cells": [
  {
   "cell_type": "code",
   "execution_count": 2,
   "id": "3e031080",
   "metadata": {},
   "outputs": [],
   "source": [
    "import sys\n",
    "import re\n",
    "from typing import *\n",
    "import pandas as pd\n",
    "import warnings\n",
    "warnings.filterwarnings('ignore')"
   ]
  },
  {
   "cell_type": "code",
   "execution_count": 3,
   "id": "35c43f85",
   "metadata": {},
   "outputs": [],
   "source": [
    "from rbbm_src.labelling_func_src.src.TreeRules import *\n",
    "from rbbm_src.dc_src.src.classes import parse_rule_to_where_clause,dc_violation_template\n",
    "import psycopg2\n",
    "from string import Template\n",
    "\n",
    "dc_tuple_violation_template=Template(\"SELECT DISTINCT t1.* FROM $table t1, $table t2 WHERE $dc_desc AND $tuple_desc;\")\n",
    "conn=psycopg2.connect('dbname=holo user=postgres')\n",
    "cur = conn.cursor()"
   ]
  },
  {
   "cell_type": "code",
   "execution_count": 4,
   "id": "e29b8f4f",
   "metadata": {},
   "outputs": [],
   "source": [
    "wrong attribute: work-class\n",
    "\n",
    "type          _tid_  age workclass      education marital-status      occupation relationship   race   sex hours-per-week native-country income income\\n wrong_attr\n",
    "after_clean   438.0  27  private        hs-grad   married-civ-spouse  craft-repair      husband  white  male             40  united-states  <=50k      NaN  workclass\n",
    "before_clean  438.0  27  self-emp-inc   hs-grad   married-civ-spouse  craft-repair      husband  white  male             40  united-states  <=50k      NaN  workclass\n",
    "ground_truth  438.0  27  self-emp-inc   hs-grad   married-civ-spouse  craft-repair      husband  white  male             40  united-states  <=50k      NaN  workclass\n"
   ]
  },
  {
   "cell_type": "code",
   "execution_count": 5,
   "id": "bd3b8a71",
   "metadata": {},
   "outputs": [],
   "source": [
    "complaint_example = pd.read_sql('select * from adult500 where _tid_=438', conn)\n",
    "# cur.fetchall()\n",
    "complaint_t = complaint_example.to_dict('records')[0]"
   ]
  },
  {
   "cell_type": "code",
   "execution_count": 6,
   "id": "3a026007",
   "metadata": {},
   "outputs": [
    {
     "data": {
      "text/plain": [
       "{'_tid_': 438,\n",
       " 'age': '27',\n",
       " 'workclass': 'self-emp-inc',\n",
       " 'education': 'hs-grad',\n",
       " 'marital-status': 'married-civ-spouse',\n",
       " 'occupation': 'craft-repair',\n",
       " 'relationship': 'husband',\n",
       " 'race': 'white',\n",
       " 'sex': 'male',\n",
       " 'hours-per-week': '40',\n",
       " 'native-country': 'united-states',\n",
       " 'income': '<=50k'}"
      ]
     },
     "execution_count": 6,
     "metadata": {},
     "output_type": "execute_result"
    }
   ],
   "source": [
    "complaint_t"
   ]
  },
  {
   "cell_type": "code",
   "execution_count": 7,
   "id": "fd233e48",
   "metadata": {},
   "outputs": [],
   "source": [
    "# dc_violation_template=Template(\"SELECT t1.* FROM $table t1 WHERE EXISTS (SELECT t2.* FROM $table AS t2 WHERE ($dc_desc));\")"
   ]
  },
  {
   "cell_type": "code",
   "execution_count": 8,
   "id": "606c8620",
   "metadata": {},
   "outputs": [],
   "source": [
    "responsibilities = {'t1&t2&EQ(t1.education,t2.education)&EQ(t1.marital-status,t2.marital-status)&IQ(t1.relationship,t2.relationship)&EQ(t1.sex,t2.sex)&IQ(t1.workclass,t2.workclass)': [0.25], \n",
    " 't1&t2&EQ(t1.education,t2.education)&EQ(t1.hours-per-week,t2.hours-per-week)&IQ(t1.race,t2.race)&IQ(t1.workclass,t2.workclass)': [0.25], \n",
    " 't1&t2&EQ(t1.education,t2.education)&EQ(t1.marital-status,t2.marital-status)&EQ(t1.workclass,t2.workclass)&IQ(t1.native-country,t2.native-country)': [-1], \n",
    " 't1&t2&EQ(t1.education,t2.education)&IQ(t1.native-country,t2.native-country)&EQ(t1.relationship,t2.relationship)&IQ(t1.workclass,t2.workclass)': [0.25], \n",
    " 't1&t2&EQ(t1.occupation,t2.occupation)&EQ(t1.hours-per-week,t2.hours-per-week)&IQ(t1.race,t2.race)&IQ(t1.workclass,t2.workclass)': [0.2], \n",
    " 't1&t2&EQ(t1.education,t2.education)&EQ(t1.occupation,t2.occupation)&IQ(t1.race,t2.race)&IQ(t1.workclass,t2.workclass)': [0.25],\n",
    " 't1&t2&EQ(t1.hours-per-week,t2.hours-per-week)&IQ(t1.native-country,t2.native-country)&IQ(t1.income,t2.income)&EQ(t1.relationship,t2.relationship)&IQ(t1.workclass,t2.workclass)': [0.2]\n",
    "}\n",
    "# run_11012022082516\n",
    "res_tuples = [(k,v[0]) for k,v in responsibilities.items()]\n"
   ]
  },
  {
   "cell_type": "code",
   "execution_count": 9,
   "id": "09e0d29e",
   "metadata": {},
   "outputs": [],
   "source": [
    "res_tuples = sorted(res_tuples, key=lambda kv:(kv[1], kv[0]), reverse=True)"
   ]
  },
  {
   "cell_type": "code",
   "execution_count": 10,
   "id": "1ae9399b",
   "metadata": {},
   "outputs": [],
   "source": [
    "ops = re.compile(r'IQ|EQ')   "
   ]
  },
  {
   "cell_type": "code",
   "execution_count": 11,
   "id": "c99a4920",
   "metadata": {},
   "outputs": [],
   "source": [
    "def parse_dc_to_tree_rule(dc_text):\n",
    "    # input:a dc raw text\n",
    "    # output: a TreeRule object\n",
    "    # each predicate comes with 2 nodes:\n",
    "    #  1.predicate node: describing the predicate text\n",
    "    #  2.label node: a left child of the predicate node from 1 that says clean\n",
    "    #  3.set right node of node from 1 to the next predicate. if no predicate is left\n",
    "    #    then set the right node to dirty\n",
    "    # support EQ and IQ only so far\n",
    "    res = []\n",
    "\n",
    "    predicates = dc_text.split('&')\n",
    "    root_predicate=predicates[2]\n",
    "    if(ops.search(root_predicate).group()=='EQ'):\n",
    "        sign='=='\n",
    "    else:\n",
    "        sign='!='\n",
    "    root_node= PredicateNode(pred=DCAttrPredicate(pred=root_predicate, operator=sign))\n",
    "    root_left_child= LabelNode(label=CLEAN)\n",
    "    root_node.left=root_left_child\n",
    "    parent=root_node\n",
    "    \n",
    "    for pred in predicates[3:]:\n",
    "        if(ops.search(pred).group()=='EQ'):\n",
    "            sign='=='\n",
    "        else:\n",
    "            sign='!='\n",
    "        cur_node = PredicateNode(pred=DCAttrPredicate(pred=pred, operator=sign))\n",
    "        root_left_child = LabelNode(label=CLEAN)\n",
    "        cur_node.left=root_left_child\n",
    "        parent.right=cur_node\n",
    "        parent=cur_node\n",
    "    parent.right=LabelNode(label=DIRTY)\n",
    "    return TreeRule(rtype='dc', root=root_node)"
   ]
  },
  {
   "cell_type": "code",
   "execution_count": 12,
   "id": "6e2eac1f",
   "metadata": {},
   "outputs": [],
   "source": [
    "def find_tuples_in_violation(t_interest, conn, dc_text, target_table):\n",
    "    predicates = dc_text.split('&')\n",
    "#     clause = parse_rule_to_where_clause(dc_text)\n",
    "    constants=[]\n",
    "    for pred in predicates[2:]:\n",
    "        attr = re.search(r't[1|2]\\.([-\\w]+)', pred).group(1)\n",
    "        constants.append(f't2.\\\"{attr}\\\"=\\'{t_interest[attr]}\\'')\n",
    "    constants_clause = ' AND '.join(constants)\n",
    "    r_q  = dc_tuple_violation_template.substitute(table=target_table, dc_desc=parse_rule_to_where_clause(dc_text),\n",
    "                                           tuple_desc=constants_clause)\n",
    "    print(r_q)\n",
    "#     cur.execute(r_q)\n",
    "#     raw_tuples=cur.fetchall()\n",
    "#     return [dict(zip(cols, t)) for t in raw_tuples]\n",
    "    return pd.read_sql(r_q, conn).to_dict('records')\n",
    "#     return r_q"
   ]
  },
  {
   "cell_type": "code",
   "execution_count": 13,
   "id": "01cb0797",
   "metadata": {},
   "outputs": [],
   "source": [
    "def gen_repaired_tree_rule(t_interest, desired_label, t_in_violation, target_attribute, tree_rule):\n",
    "    # given a tuple of interest, the desired label (clean/dirty)\n",
    "    # a tuple of violation, and a target attribute you want to fix\n",
    "    # the rule with, return a modified tree rule object that return the \n",
    "    # desired label for the pair of tuples\n",
    "    \n",
    "    # Step #1, traverse through the given tree rule using the tuple pair (t_interest, t_in_violation)\n",
    "    pair_to_eval_dict = {'t1':t_interest, 't2':t_in_violation}\n",
    "    parent, end_node = tree_rule.evaluate(pair_to_eval_dict)\n",
    "    cur_label = end_node.label\n",
    "    # Step #2, add a new branch based on the target_attribute and its value in t_interest\n",
    "    # It is possible the value between t_interest and t_in_violation has the same value in \n",
    "    # target_attribute, which wouldnt help\n",
    "    new_branch = PredicateNode(pred=DCConstPredicate(f\"EQ(t1.{target_attribute},'{t_interest[target_attribute]}')\"))\n",
    "    new_branch.right=LabelNode(label=desired_label)\n",
    "    new_branch.left=LabelNode(label=cur_label)\n",
    "    # Holoclean constant assignment example EQ(t1.HospitalOwner,'proprietary')\n",
    "    if(parent.right is end_node):\n",
    "        parent.right=new_branch\n",
    "    else:\n",
    "        parent.left=new_branch\n",
    "        \n",
    "    return tree_rule\n"
   ]
  },
  {
   "cell_type": "code",
   "execution_count": 14,
   "id": "51542ea2",
   "metadata": {},
   "outputs": [],
   "source": [
    "def fix_violation(t_interest, desired_label, t_in_violation, tree_rule):\n",
    "    unusable_attrs=['_tid_']\n",
    "    # check \"unavailable nodes\", a node is unavailable when\n",
    "    # the node contains equal operator\n",
    "    cur_node_parent=None\n",
    "    cur_node = tree_rule.root\n",
    "    queue = deque([tree_rule.root])\n",
    "    while(queue):\n",
    "        cur_node = queue.popleft()\n",
    "        if(isinstance(cur_node,PredicateNode)):\n",
    "            if(cur_node.pred.operator=='=='):\n",
    "                unusable_attrs.append(cur_node.pred.attr)\n",
    "        if(cur_node.left):\n",
    "            queue.append(cur_node.left)\n",
    "        if(cur_node.right):\n",
    "            queue.append(cur_node.right)\n",
    "#         cur_node_parent=cur_node\n",
    "#         cur_node=cur_node.right\n",
    "        \n",
    "    available_attrs=list(set(set(list(t_interest)).difference(set(unusable_attrs))))\n",
    "    if(not available_attrs):\n",
    "        return None\n",
    "    repaired_tree_rule=gen_repaired_tree_rule(t_interest, desired_label, t_in_violation, \n",
    "                                              available_attrs[0], tree_rule)\n",
    "#         if(gen_repair_predicate(t_interest, t_in_violation, attr))\n",
    "    return repaired_tree_rule"
   ]
  },
  {
   "cell_type": "code",
   "execution_count": 15,
   "id": "f9f6a4ae",
   "metadata": {},
   "outputs": [
    {
     "data": {
      "text/plain": [
       "[('t1&t2&EQ(t1.education,t2.education)&IQ(t1.native-country,t2.native-country)&EQ(t1.relationship,t2.relationship)&IQ(t1.workclass,t2.workclass)',\n",
       "  0.25),\n",
       " ('t1&t2&EQ(t1.education,t2.education)&EQ(t1.occupation,t2.occupation)&IQ(t1.race,t2.race)&IQ(t1.workclass,t2.workclass)',\n",
       "  0.25),\n",
       " ('t1&t2&EQ(t1.education,t2.education)&EQ(t1.marital-status,t2.marital-status)&IQ(t1.relationship,t2.relationship)&EQ(t1.sex,t2.sex)&IQ(t1.workclass,t2.workclass)',\n",
       "  0.25),\n",
       " ('t1&t2&EQ(t1.education,t2.education)&EQ(t1.hours-per-week,t2.hours-per-week)&IQ(t1.race,t2.race)&IQ(t1.workclass,t2.workclass)',\n",
       "  0.25),\n",
       " ('t1&t2&EQ(t1.occupation,t2.occupation)&EQ(t1.hours-per-week,t2.hours-per-week)&IQ(t1.race,t2.race)&IQ(t1.workclass,t2.workclass)',\n",
       "  0.2),\n",
       " ('t1&t2&EQ(t1.hours-per-week,t2.hours-per-week)&IQ(t1.native-country,t2.native-country)&IQ(t1.income,t2.income)&EQ(t1.relationship,t2.relationship)&IQ(t1.workclass,t2.workclass)',\n",
       "  0.2),\n",
       " ('t1&t2&EQ(t1.education,t2.education)&EQ(t1.marital-status,t2.marital-status)&EQ(t1.workclass,t2.workclass)&IQ(t1.native-country,t2.native-country)',\n",
       "  -1)]"
      ]
     },
     "execution_count": 15,
     "metadata": {},
     "output_type": "execute_result"
    }
   ],
   "source": [
    "res_tuples"
   ]
  },
  {
   "cell_type": "code",
   "execution_count": 16,
   "id": "75c92fce",
   "metadata": {},
   "outputs": [],
   "source": [
    "# for r in res_tuples[:1]:\n",
    "treerule = parse_dc_to_tree_rule(res_tuples[0][0])"
   ]
  },
  {
   "cell_type": "code",
   "execution_count": 17,
   "id": "1ad7561d",
   "metadata": {},
   "outputs": [
    {
     "name": "stdout",
     "output_type": "stream",
     "text": [
      "dc-attr-pred-==EQ(t1.education,t2.education)\n",
      "\t0\n",
      "\tdc-attr-pred-!=IQ(t1.native-country,t2.native-country)\n",
      "\t\t0\n",
      "\t\tdc-attr-pred-==EQ(t1.relationship,t2.relationship)\n",
      "\t\t\t0\n",
      "\t\t\tdc-attr-pred-!=IQ(t1.workclass,t2.workclass)\n",
      "\t\t\t\t0\n",
      "\t\t\t\t1\n"
     ]
    }
   ],
   "source": [
    "print(str(treerule))"
   ]
  },
  {
   "cell_type": "code",
   "execution_count": 18,
   "id": "8c959b54",
   "metadata": {},
   "outputs": [],
   "source": [
    "# test_rule = 't1&t2&EQ(t1.nationality,t2.nationality)&IQ(t1.workclass,t2.workclass)'\n",
    "# treerule = parse_dc_to_tree_rule(test_rule)\n",
    "# test_pair_dict={'t1':{'nationality':'china' ,'workclass':'middle'},\n",
    "#                 't2':{'nationality':'germany' ,'workclass':'high'}}\n",
    "\n",
    "# test_pair_dict1={'t1':{'a':1 ,'b':2, 'c': 2, 'd': 10},\n",
    "#                  't2':{'a':1 ,'b':2, 'c': 3, 'd': 9}\n",
    "#                 }\n",
    "\n",
    "# test_pair_dict2={'t1':{'a':1 ,'b':2, 'c': 2, 'd': 10},\n",
    "#                  't2':{'a':1 ,'b':2, 'c': 2, 'd': 10}\n",
    "#                 }\n",
    "# treerule.evaluate(test_pair_dict1)\n",
    "# treerule.evaluate(test_pair_dict2)"
   ]
  },
  {
   "cell_type": "code",
   "execution_count": 19,
   "id": "acd13f95",
   "metadata": {},
   "outputs": [
    {
     "name": "stdout",
     "output_type": "stream",
     "text": [
      "SELECT DISTINCT t1.* FROM adult500 t1, adult500 t2 WHERE t1.\"education\"=t2.\"education\" AND t1.\"native-country\"!=t2.\"native-country\" AND t1.\"relationship\"=t2.\"relationship\" AND t1.\"workclass\"!=t2.\"workclass\" AND t2.\"education\"='hs-grad' AND t2.\"native-country\"='united-states' AND t2.\"relationship\"='husband' AND t2.\"workclass\"='self-emp-inc';\n"
     ]
    }
   ],
   "source": [
    "complaint_tuple = complaint_t\n",
    "tuples_inviolation = find_tuples_in_violation(complaint_tuple, conn, res_tuples[0][0], 'adult500')"
   ]
  },
  {
   "cell_type": "code",
   "execution_count": 20,
   "id": "c6e88acd",
   "metadata": {},
   "outputs": [
    {
     "data": {
      "text/plain": [
       "[{'_tid_': 17,\n",
       "  'age': '72',\n",
       "  'workclass': '?',\n",
       "  'education': 'hs-grad',\n",
       "  'marital-status': 'married-civ-spouse',\n",
       "  'occupation': '?',\n",
       "  'relationship': 'husband',\n",
       "  'race': 'white',\n",
       "  'sex': 'male',\n",
       "  'hours-per-week': '40',\n",
       "  'native-country': 'cuba',\n",
       "  'income': '<=50k'},\n",
       " {'_tid_': 75,\n",
       "  'age': '43',\n",
       "  'workclass': 'private',\n",
       "  'education': 'hs-grad',\n",
       "  'marital-status': 'married-civ-spouse',\n",
       "  'occupation': 'other-service',\n",
       "  'relationship': 'husband',\n",
       "  'race': 'white',\n",
       "  'sex': 'male',\n",
       "  'hours-per-week': '60',\n",
       "  'native-country': 'nicaragua',\n",
       "  'income': '<=50k'},\n",
       " {'_tid_': 151,\n",
       "  'age': '80',\n",
       "  'workclass': '?',\n",
       "  'education': 'hs-grad',\n",
       "  'marital-status': 'married-civ-spouse',\n",
       "  'occupation': '?',\n",
       "  'relationship': 'husband',\n",
       "  'race': 'white',\n",
       "  'sex': 'male',\n",
       "  'hours-per-week': '8',\n",
       "  'native-country': 'canada',\n",
       "  'income': '<=50k'},\n",
       " {'_tid_': 339,\n",
       "  'age': '36',\n",
       "  'workclass': 'private',\n",
       "  'education': 'hs-grad',\n",
       "  'marital-status': 'married-civ-spouse',\n",
       "  'occupation': 'machine-op-inspct',\n",
       "  'relationship': 'husband',\n",
       "  'race': 'black',\n",
       "  'sex': 'male',\n",
       "  'hours-per-week': '40',\n",
       "  'native-country': 'haiti',\n",
       "  'income': '<=50k'},\n",
       " {'_tid_': 456,\n",
       "  'age': '47',\n",
       "  'workclass': 'private',\n",
       "  'education': 'hs-grad',\n",
       "  'marital-status': 'married-civ-spouse',\n",
       "  'occupation': 'craft-repair',\n",
       "  'relationship': 'husband',\n",
       "  'race': 'asian-pac-islander',\n",
       "  'sex': 'male',\n",
       "  'hours-per-week': '60',\n",
       "  'native-country': 'japan',\n",
       "  'income': '<=50k'}]"
      ]
     },
     "execution_count": 20,
     "metadata": {},
     "output_type": "execute_result"
    }
   ],
   "source": [
    "tuples_inviolation"
   ]
  },
  {
   "cell_type": "code",
   "execution_count": 21,
   "id": "4346fbe9",
   "metadata": {},
   "outputs": [],
   "source": [
    "# # {'_tid_': 17,\n",
    "#   'age': '72',\n",
    "#   'workclass': '?',\n",
    "#   'education': 'hs-grad',\n",
    "#   'marital-status': 'married-civ-spouse',\n",
    "#   'occupation': '?',\n",
    "#   'relationship': 'husband',\n",
    "#   'race': 'white',\n",
    "#   'sex': 'male',\n",
    "#   'hours-per-week': '40',\n",
    "#   'native-country': 'cuba',\n",
    "#   'income': '<=50k'}"
   ]
  },
  {
   "cell_type": "code",
   "execution_count": 22,
   "id": "858921df",
   "metadata": {},
   "outputs": [
    {
     "data": {
      "text/plain": [
       "{'_tid_': 438,\n",
       " 'age': '27',\n",
       " 'workclass': 'self-emp-inc',\n",
       " 'education': 'hs-grad',\n",
       " 'marital-status': 'married-civ-spouse',\n",
       " 'occupation': 'craft-repair',\n",
       " 'relationship': 'husband',\n",
       " 'race': 'white',\n",
       " 'sex': 'male',\n",
       " 'hours-per-week': '40',\n",
       " 'native-country': 'united-states',\n",
       " 'income': '<=50k'}"
      ]
     },
     "execution_count": 22,
     "metadata": {},
     "output_type": "execute_result"
    }
   ],
   "source": [
    "complaint_t"
   ]
  },
  {
   "cell_type": "code",
   "execution_count": 23,
   "id": "6d54f016",
   "metadata": {},
   "outputs": [
    {
     "data": {
      "text/plain": [
       "dc-attr-pred-==EQ(t1.education,t2.education)\n",
       "\t0\n",
       "\tdc-attr-pred-!=IQ(t1.native-country,t2.native-country)\n",
       "\t\t0\n",
       "\t\tdc-attr-pred-==EQ(t1.relationship,t2.relationship)\n",
       "\t\t\t0\n",
       "\t\t\tdc-attr-pred-!=IQ(t1.workclass,t2.workclass)\n",
       "\t\t\t\t0\n",
       "\t\t\t\tdc-const-pred-EQ(t1.income,'<=50k')\n",
       "\t\t\t\t\t1\n",
       "\t\t\t\t\t0"
      ]
     },
     "execution_count": 23,
     "metadata": {},
     "output_type": "execute_result"
    }
   ],
   "source": [
    "fix_violation(complaint_tuple, CLEAN, tuples_inviolation[0], treerule)"
   ]
  },
  {
   "cell_type": "code",
   "execution_count": 24,
   "id": "37e94331",
   "metadata": {},
   "outputs": [],
   "source": [
    "# Algorithm to generate repairs:\n",
    "# Input: A rule to repair D, the desired label Y"
   ]
  },
  {
   "cell_type": "code",
   "execution_count": 25,
   "id": "20db86b8",
   "metadata": {
    "scrolled": true
   },
   "outputs": [
    {
     "data": {
      "text/plain": [
       "[\"t1&t2&EQ(t1.education,t2.education)&IQ(t1.native-country,t2.native-country)&EQ(t1.relationship,t2.relationship)&IQ(t1.workclass,t2.workclass)&IQ(t1.income,'<=50k')\"]"
      ]
     },
     "execution_count": 25,
     "metadata": {},
     "output_type": "execute_result"
    }
   ],
   "source": [
    "treerule.serialize()"
   ]
  },
  {
   "cell_type": "code",
   "execution_count": 26,
   "id": "381d6f28",
   "metadata": {},
   "outputs": [],
   "source": [
    "# new_left=PredicateNode(pred=DCAttrPredicate(pred='EQ(t1.hours-per-week,t2.hours-per-week)&IQ(t1.native-country,t2.native-country)',\n",
    "#                                    operator='=='))\n",
    "# new_left.left=LabelNode(label=DIRTY)\n",
    "# new_left.right=LabelNode(label=CLEAN)\n",
    "# treerule.root.left=new_left"
   ]
  },
  {
   "cell_type": "code",
   "execution_count": 27,
   "id": "56270dc8",
   "metadata": {},
   "outputs": [
    {
     "data": {
      "text/plain": [
       "[\"t1&t2&EQ(t1.education,t2.education)&IQ(t1.native-country,t2.native-country)&EQ(t1.relationship,t2.relationship)&IQ(t1.workclass,t2.workclass)&IQ(t1.income,'<=50k')\"]"
      ]
     },
     "execution_count": 27,
     "metadata": {},
     "output_type": "execute_result"
    }
   ],
   "source": [
    "treerule.serialize()"
   ]
  },
  {
   "cell_type": "code",
   "execution_count": 28,
   "id": "40a7bd73",
   "metadata": {},
   "outputs": [
    {
     "name": "stdout",
     "output_type": "stream",
     "text": [
      "dc-attr-pred-==EQ(t1.education,t2.education)\n",
      "\t0\n",
      "\tdc-attr-pred-!=IQ(t1.native-country,t2.native-country)\n",
      "\t\t0\n",
      "\t\tdc-attr-pred-==EQ(t1.relationship,t2.relationship)\n",
      "\t\t\t0\n",
      "\t\t\tdc-attr-pred-!=IQ(t1.workclass,t2.workclass)\n",
      "\t\t\t\t0\n",
      "\t\t\t\tdc-const-pred-EQ(t1.income,'<=50k')\n",
      "\t\t\t\t\t1\n",
      "\t\t\t\t\t0\n"
     ]
    }
   ],
   "source": [
    "print(str(treerule))"
   ]
  },
  {
   "cell_type": "code",
   "execution_count": 29,
   "id": "6f965b94",
   "metadata": {},
   "outputs": [
    {
     "data": {
      "text/plain": [
       "dc-attr-pred-==EQ(t1.education,t2.education)\n",
       "\t0\n",
       "\tdc-attr-pred-!=IQ(t1.native-country,t2.native-country)\n",
       "\t\t0\n",
       "\t\tdc-attr-pred-==EQ(t1.relationship,t2.relationship)\n",
       "\t\t\t0\n",
       "\t\t\tdc-attr-pred-!=IQ(t1.workclass,t2.workclass)\n",
       "\t\t\t\t0\n",
       "\t\t\t\tdc-const-pred-EQ(t1.income,'<=50k')\n",
       "\t\t\t\t\t1\n",
       "\t\t\t\t\tdc-const-pred-EQ(t1.hours-per-week,'40')\n",
       "\t\t\t\t\t\t0\n",
       "\t\t\t\t\t\t0"
      ]
     },
     "execution_count": 29,
     "metadata": {},
     "output_type": "execute_result"
    }
   ],
   "source": [
    "fix_violation(complaint_tuple, CLEAN, tuples_inviolation[1], treerule)"
   ]
  },
  {
   "cell_type": "code",
   "execution_count": 30,
   "id": "cadd1ab4",
   "metadata": {},
   "outputs": [],
   "source": [
    "df = pd.DataFrame({'a':[1,2,1,2], 'b':[3,4,3,5], 'c':[3,4,3,5]})"
   ]
  },
  {
   "cell_type": "code",
   "execution_count": 31,
   "id": "39dba2c6",
   "metadata": {},
   "outputs": [
    {
     "data": {
      "text/html": [
       "<div>\n",
       "<style scoped>\n",
       "    .dataframe tbody tr th:only-of-type {\n",
       "        vertical-align: middle;\n",
       "    }\n",
       "\n",
       "    .dataframe tbody tr th {\n",
       "        vertical-align: top;\n",
       "    }\n",
       "\n",
       "    .dataframe thead th {\n",
       "        text-align: right;\n",
       "    }\n",
       "</style>\n",
       "<table border=\"1\" class=\"dataframe\">\n",
       "  <thead>\n",
       "    <tr style=\"text-align: right;\">\n",
       "      <th></th>\n",
       "      <th>a</th>\n",
       "      <th>b</th>\n",
       "      <th>c</th>\n",
       "    </tr>\n",
       "  </thead>\n",
       "  <tbody>\n",
       "    <tr>\n",
       "      <th>0</th>\n",
       "      <td>1</td>\n",
       "      <td>3</td>\n",
       "      <td>3</td>\n",
       "    </tr>\n",
       "    <tr>\n",
       "      <th>1</th>\n",
       "      <td>2</td>\n",
       "      <td>4</td>\n",
       "      <td>4</td>\n",
       "    </tr>\n",
       "    <tr>\n",
       "      <th>2</th>\n",
       "      <td>1</td>\n",
       "      <td>3</td>\n",
       "      <td>3</td>\n",
       "    </tr>\n",
       "    <tr>\n",
       "      <th>3</th>\n",
       "      <td>2</td>\n",
       "      <td>5</td>\n",
       "      <td>5</td>\n",
       "    </tr>\n",
       "  </tbody>\n",
       "</table>\n",
       "</div>"
      ],
      "text/plain": [
       "   a  b  c\n",
       "0  1  3  3\n",
       "1  2  4  4\n",
       "2  1  3  3\n",
       "3  2  5  5"
      ]
     },
     "execution_count": 31,
     "metadata": {},
     "output_type": "execute_result"
    }
   ],
   "source": [
    "df"
   ]
  },
  {
   "cell_type": "code",
   "execution_count": 32,
   "id": "127ce148",
   "metadata": {},
   "outputs": [
    {
     "data": {
      "text/html": [
       "<div>\n",
       "<style scoped>\n",
       "    .dataframe tbody tr th:only-of-type {\n",
       "        vertical-align: middle;\n",
       "    }\n",
       "\n",
       "    .dataframe tbody tr th {\n",
       "        vertical-align: top;\n",
       "    }\n",
       "\n",
       "    .dataframe thead th {\n",
       "        text-align: right;\n",
       "    }\n",
       "</style>\n",
       "<table border=\"1\" class=\"dataframe\">\n",
       "  <thead>\n",
       "    <tr style=\"text-align: right;\">\n",
       "      <th></th>\n",
       "      <th>a</th>\n",
       "      <th>b</th>\n",
       "      <th>c</th>\n",
       "    </tr>\n",
       "  </thead>\n",
       "  <tbody>\n",
       "    <tr>\n",
       "      <th>0</th>\n",
       "      <td>1</td>\n",
       "      <td>3</td>\n",
       "      <td>3</td>\n",
       "    </tr>\n",
       "    <tr>\n",
       "      <th>2</th>\n",
       "      <td>1</td>\n",
       "      <td>3</td>\n",
       "      <td>3</td>\n",
       "    </tr>\n",
       "    <tr>\n",
       "      <th>1</th>\n",
       "      <td>2</td>\n",
       "      <td>4</td>\n",
       "      <td>4</td>\n",
       "    </tr>\n",
       "    <tr>\n",
       "      <th>3</th>\n",
       "      <td>2</td>\n",
       "      <td>5</td>\n",
       "      <td>5</td>\n",
       "    </tr>\n",
       "  </tbody>\n",
       "</table>\n",
       "</div>"
      ],
      "text/plain": [
       "   a  b  c\n",
       "0  1  3  3\n",
       "2  1  3  3\n",
       "1  2  4  4\n",
       "3  2  5  5"
      ]
     },
     "execution_count": 32,
     "metadata": {},
     "output_type": "execute_result"
    }
   ],
   "source": [
    "df.sort_values(by=['a','b'])"
   ]
  },
  {
   "cell_type": "code",
   "execution_count": null,
   "id": "c4096941",
   "metadata": {},
   "outputs": [],
   "source": []
  }
 ],
 "metadata": {
  "kernelspec": {
   "display_name": "Python 3 (ipykernel)",
   "language": "python",
   "name": "python3"
  },
  "language_info": {
   "codemirror_mode": {
    "name": "ipython",
    "version": 3
   },
   "file_extension": ".py",
   "mimetype": "text/x-python",
   "name": "python",
   "nbconvert_exporter": "python",
   "pygments_lexer": "ipython3",
   "version": "3.8.0"
  }
 },
 "nbformat": 4,
 "nbformat_minor": 5
}

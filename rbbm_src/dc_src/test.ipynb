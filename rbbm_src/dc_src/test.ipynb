{
 "cells": [
  {
   "cell_type": "code",
   "execution_count": 63,
   "id": "93ce3bc6",
   "metadata": {},
   "outputs": [],
   "source": [
    "import pandas as pd"
   ]
  },
  {
   "cell_type": "code",
   "execution_count": 64,
   "id": "2900f031",
   "metadata": {},
   "outputs": [],
   "source": [
    "ddws_df = pd.read_csv('ddws.csv')\n",
    "# ddws_df_subset=ddws_df[ddws_df['_tid_']==24]"
   ]
  },
  {
   "cell_type": "code",
   "execution_count": 65,
   "id": "9969501f",
   "metadata": {},
   "outputs": [],
   "source": [
    "# ddws_df_subset"
   ]
  },
  {
   "cell_type": "code",
   "execution_count": 66,
   "id": "c443a524",
   "metadata": {},
   "outputs": [],
   "source": [
    "grouped = ddws_df.groupby('_tid_')"
   ]
  },
  {
   "cell_type": "code",
   "execution_count": 67,
   "id": "685e820b",
   "metadata": {},
   "outputs": [],
   "source": [
    "cols = list(ddws_df)"
   ]
  },
  {
   "cell_type": "code",
   "execution_count": 68,
   "id": "34bddba6",
   "metadata": {},
   "outputs": [],
   "source": [
    "cols.remove('_tid_')\n",
    "cols.remove('type')"
   ]
  },
  {
   "cell_type": "code",
   "execution_count": 69,
   "id": "c8064b91",
   "metadata": {},
   "outputs": [
    {
     "name": "stdout",
     "output_type": "stream",
     "text": [
      "ProviderNumber\n",
      "HospitalName\n",
      "Address1\n",
      "City\n",
      "State\n",
      "ZipCode\n",
      "CountyName\n",
      "PhoneNumber\n",
      "HospitalType\n",
      "HospitalOwner\n",
      "EmergencyService\n",
      "Condition\n",
      "MeasureCode\n",
      "MeasureName\n",
      "Score\n",
      "Sample\n",
      "Stateavg\n",
      "Address2\n",
      "Address3\n"
     ]
    }
   ],
   "source": [
    "for c in cols:\n",
    "    print(c)"
   ]
  },
  {
   "cell_type": "code",
   "execution_count": 70,
   "id": "1a4d9e57",
   "metadata": {},
   "outputs": [
    {
     "name": "stdout",
     "output_type": "stream",
     "text": [
      "wow\n",
      "wow\n",
      "wow\n",
      "wow\n",
      "wow\n",
      "wow\n",
      "wow\n",
      "wow\n",
      "wow\n"
     ]
    }
   ],
   "source": [
    "for name, group in grouped:\n",
    "    if(not group[group['type']=='after_clean'][cols].reset_index(drop=True).equals(group[group['type']=='before_clean'][cols].reset_index(drop=True)) and \\\n",
    "       not group[group['type']=='after_clean'][cols].reset_index(drop=True).equals(group[group['type']=='ground_truth'][cols].reset_index(drop=True)) and \\\n",
    "       not group[group['type']=='before_clean'][cols].reset_index(drop=True).equals(group[group['type']=='ground_truth'][cols].reset_index(drop=True))):\n",
    "        print('wow')"
   ]
  },
  {
   "cell_type": "code",
   "execution_count": 71,
   "id": "34a3c36b",
   "metadata": {},
   "outputs": [
    {
     "name": "stdout",
     "output_type": "stream",
     "text": [
      "wow\n",
      "    _tid_          type EmergencyService\n",
      "33   24.0  before_clean              yxs\n",
      "34   24.0   after_clean              yxs\n",
      "35   24.0  ground_truth              yes\n",
      "wow\n",
      "    _tid_          type MeasureCode\n",
      "12  101.0   after_clean        hfx1\n",
      "13  101.0  before_clean        hfx1\n",
      "14  101.0  ground_truth        hf-1\n",
      "wow\n",
      "    _tid_          type         HospitalOwner\n",
      "30  247.0  before_clean  governxent - federal\n",
      "31  247.0   after_clean  governxent - federal\n",
      "32  247.0  ground_truth  government - federal\n",
      "wow\n",
      "   _tid_          type State\n",
      "3  386.0  before_clean    xl\n",
      "4  386.0   after_clean    xl\n",
      "5  386.0  ground_truth    al\n",
      "wow\n",
      "   _tid_          type      Condition\n",
      "3  386.0  before_clean  hxart failurx\n",
      "4  386.0   after_clean  hxart failurx\n",
      "5  386.0  ground_truth  heart failure\n",
      "wow\n",
      "    _tid_          type           Address1\n",
      "15  393.0  before_clean  124xsxmemorialxdr\n",
      "16  393.0   after_clean  124xsxmemorialxdr\n",
      "17  393.0  ground_truth  124 s memorial dr\n",
      "wow\n",
      "    _tid_          type                                        MeasureName\n",
      "24  562.0   after_clean  allxheartxsurgeryxpatientsxwhosexbloodxsugarx(...\n",
      "25  562.0  before_clean  allxheartxsurgeryxpatientsxwhosexbloodxsugarx(...\n",
      "26  562.0  ground_truth  all heart surgery patients whose blood sugar (...\n",
      "wow\n",
      "    _tid_          type State\n",
      "36  572.0   after_clean    ax\n",
      "37  572.0  before_clean    ax\n",
      "38  572.0  ground_truth    al\n",
      "wow\n",
      "    _tid_          type                 HospitalOwner\n",
      "36  572.0   after_clean  voluntary non-profit - otxer\n",
      "37  572.0  before_clean  voluntary non-profit - otxer\n",
      "38  572.0  ground_truth  voluntary non-profit - other\n",
      "wow\n",
      "    _tid_          type                                        MeasureName\n",
      "18  713.0  before_clean  surgery paxienxs needing hair removed from xhe...\n",
      "19  713.0   after_clean  surgery paxienxs needing hair removed from xhe...\n",
      "20  713.0  ground_truth  surgery patients needing hair removed from the...\n",
      "wow\n",
      "   _tid_          type MeasureCode\n",
      "6  865.0   after_clean        px-4\n",
      "7  865.0  before_clean        px-4\n",
      "8  865.0  ground_truth        pn-4\n"
     ]
    }
   ],
   "source": [
    "for name, group in grouped:\n",
    "    for c in cols:\n",
    "        if(not group[group['type']=='after_clean'][c].reset_index(drop=True).equals(group[group['type']=='ground_truth'][c].reset_index(drop=True))):\n",
    "            print('wow')\n",
    "            print(group[['_tid_', 'type',c]])"
   ]
  },
  {
   "cell_type": "code",
   "execution_count": 72,
   "id": "9995b3ae",
   "metadata": {},
   "outputs": [
    {
     "name": "stdout",
     "output_type": "stream",
     "text": [
      "wow\n",
      "33    334793870x\n",
      "34    3347938701\n",
      "35    3347938701\n",
      "Name: PhoneNumber, dtype: object\n",
      "wow\n",
      "0    2565x38310\n",
      "1    2565938310\n",
      "2    2565938310\n",
      "Name: PhoneNumber, dtype: object\n",
      "wow\n",
      "12    3344933541\n",
      "13    3344x33541\n",
      "14    3344933541\n",
      "Name: PhoneNumber, dtype: object\n",
      "wow\n",
      "30    xx46x66221\n",
      "31    3346366221\n",
      "32    3346366221\n",
      "Name: PhoneNumber, dtype: object\n",
      "wow\n",
      "9     3346366221\n",
      "10    334x3xx221\n",
      "11    3346366221\n",
      "Name: PhoneNumber, dtype: object\n",
      "wow\n",
      "3    25x47x7xx0\n",
      "4    2514717110\n",
      "5    2514717110\n",
      "Name: PhoneNumber, dtype: object\n",
      "wow\n",
      "15    33x361x267\n",
      "16    3343614267\n",
      "17    3343614267\n",
      "Name: PhoneNumber, dtype: object\n",
      "wow\n",
      "24    3342938000\n",
      "25    3342938xxx\n",
      "26    3342938000\n",
      "Name: PhoneNumber, dtype: object\n",
      "wow\n",
      "36    3347561400\n",
      "37    334x561400\n",
      "38    3347561400\n",
      "Name: PhoneNumber, dtype: object\n",
      "wow\n",
      "21    3348972257\n",
      "22    33x8972257\n",
      "23    3348972257\n",
      "Name: PhoneNumber, dtype: object\n",
      "wow\n",
      "18    33x28365x1\n",
      "19    3342836541\n",
      "20    3342836541\n",
      "Name: PhoneNumber, dtype: object\n",
      "wow\n",
      "6    2059216200\n",
      "7    20x9216200\n",
      "8    2059216200\n",
      "Name: PhoneNumber, dtype: object\n",
      "wow\n",
      "27    2059325966\n",
      "28    x0593x5966\n",
      "29    2059325966\n",
      "Name: PhoneNumber, dtype: object\n"
     ]
    }
   ],
   "source": [
    "for name, group in grouped:\n",
    "    for c in cols:\n",
    "        if(not group[group['type']=='after_clean'][c].reset_index(drop=True).equals(group[group['type']=='before_clean'][c].reset_index(drop=True))):\n",
    "            print('wow')\n",
    "            print(group[c])"
   ]
  },
  {
   "cell_type": "code",
   "execution_count": 73,
   "id": "872c7b51",
   "metadata": {},
   "outputs": [],
   "source": [
    "for name, group in grouped:\n",
    "    for c in cols:\n",
    "        if(not group[group['type']=='after_clean'][c].reset_index(drop=True).equals(group[group['type']=='before_clean'][c].reset_index(drop=True)) and \\\n",
    "           not group[group['type']=='after_clean'][c].reset_index(drop=True).equals(group[group['type']=='ground_truth'][c].reset_index(drop=True)) and \\\n",
    "           not group[group['type']=='before_clean'][c].reset_index(drop=True).equals(group[group['type']=='ground_truth'][c].reset_index(drop=True))):\n",
    "            print('wow')\n",
    "            print(group[c])"
   ]
  }
 ],
 "metadata": {
  "kernelspec": {
   "display_name": "Python 3 (ipykernel)",
   "language": "python",
   "name": "python3"
  },
  "language_info": {
   "codemirror_mode": {
    "name": "ipython",
    "version": 3
   },
   "file_extension": ".py",
   "mimetype": "text/x-python",
   "name": "python",
   "nbconvert_exporter": "python",
   "pygments_lexer": "ipython3",
   "version": "3.8.0"
  }
 },
 "nbformat": 4,
 "nbformat_minor": 5
}

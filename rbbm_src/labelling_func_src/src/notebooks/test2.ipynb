{
 "cells": [
  {
   "cell_type": "code",
   "execution_count": 1,
   "id": "f2ecd49a",
   "metadata": {},
   "outputs": [],
   "source": [
    "import pandas as pd\n",
    "pd.set_option('display.max_colwidth', None)\n",
    "pd.set_option('display.max_rows', None)"
   ]
  },
  {
   "cell_type": "code",
   "execution_count": 2,
   "id": "4ee2cb5a",
   "metadata": {},
   "outputs": [],
   "source": [
    "df = pd.read_csv('more_lf_2023-04-26-18-46-23')"
   ]
  },
  {
   "cell_type": "code",
   "execution_count": 3,
   "id": "35aa9ece",
   "metadata": {},
   "outputs": [
    {
     "data": {
      "text/html": [
       "<div>\n",
       "<style scoped>\n",
       "    .dataframe tbody tr th:only-of-type {\n",
       "        vertical-align: middle;\n",
       "    }\n",
       "\n",
       "    .dataframe tbody tr th {\n",
       "        vertical-align: top;\n",
       "    }\n",
       "\n",
       "    .dataframe thead th {\n",
       "        text-align: right;\n",
       "    }\n",
       "</style>\n",
       "<table border=\"1\" class=\"dataframe\">\n",
       "  <thead>\n",
       "    <tr style=\"text-align: right;\">\n",
       "      <th></th>\n",
       "      <th>strat</th>\n",
       "      <th>runtime</th>\n",
       "      <th>avg_tree_size_increase</th>\n",
       "      <th>num_complaints</th>\n",
       "      <th>confirmation_cnt</th>\n",
       "      <th>global_accuracy</th>\n",
       "      <th>fix_rate</th>\n",
       "      <th>confirm_preserve_rate</th>\n",
       "      <th>new_global_accuracy</th>\n",
       "      <th>prev_signaled_cnt</th>\n",
       "      <th>new_signaled_cnt</th>\n",
       "    </tr>\n",
       "  </thead>\n",
       "  <tbody>\n",
       "    <tr>\n",
       "      <th>0</th>\n",
       "      <td>information gain</td>\n",
       "      <td>0.061</td>\n",
       "      <td>1.111111</td>\n",
       "      <td>4</td>\n",
       "      <td>16</td>\n",
       "      <td>0.824</td>\n",
       "      <td>0.75</td>\n",
       "      <td>1.0</td>\n",
       "      <td>0.827</td>\n",
       "      <td>1662</td>\n",
       "      <td>1662</td>\n",
       "    </tr>\n",
       "  </tbody>\n",
       "</table>\n",
       "</div>"
      ],
      "text/plain": [
       "              strat  runtime  avg_tree_size_increase  num_complaints  \\\n",
       "0  information gain    0.061                1.111111               4   \n",
       "\n",
       "   confirmation_cnt  global_accuracy  fix_rate  confirm_preserve_rate  \\\n",
       "0                16            0.824      0.75                    1.0   \n",
       "\n",
       "   new_global_accuracy  prev_signaled_cnt  new_signaled_cnt  \n",
       "0                0.827               1662              1662  "
      ]
     },
     "execution_count": 3,
     "metadata": {},
     "output_type": "execute_result"
    }
   ],
   "source": [
    "df"
   ]
  },
  {
   "cell_type": "code",
   "execution_count": 4,
   "id": "3298466b",
   "metadata": {},
   "outputs": [],
   "source": [
    "df_s = pd.read_csv('sampled_complaints_2023-04-26-18-46-23_information gain_10.csv')"
   ]
  },
  {
   "cell_type": "code",
   "execution_count": 5,
   "id": "6f41a6da",
   "metadata": {},
   "outputs": [],
   "source": [
    "df_wrongs=df_s[df_s['model_pred']!=df_s['expected_label']]"
   ]
  },
  {
   "cell_type": "code",
   "execution_count": 6,
   "id": "0dbdd137",
   "metadata": {},
   "outputs": [
    {
     "data": {
      "text/plain": [
       "['comment_id',\n",
       " 'author',\n",
       " 'date',\n",
       " 'old_text',\n",
       " 'expected_label',\n",
       " 'text',\n",
       " 'model_pred',\n",
       " 'vectors']"
      ]
     },
     "execution_count": 6,
     "metadata": {},
     "output_type": "execute_result"
    }
   ],
   "source": [
    "list(df_wrongs)"
   ]
  },
  {
   "cell_type": "code",
   "execution_count": 7,
   "id": "6c104178",
   "metadata": {},
   "outputs": [
    {
     "data": {
      "text/html": [
       "<div>\n",
       "<style scoped>\n",
       "    .dataframe tbody tr th:only-of-type {\n",
       "        vertical-align: middle;\n",
       "    }\n",
       "\n",
       "    .dataframe tbody tr th {\n",
       "        vertical-align: top;\n",
       "    }\n",
       "\n",
       "    .dataframe thead th {\n",
       "        text-align: right;\n",
       "    }\n",
       "</style>\n",
       "<table border=\"1\" class=\"dataframe\">\n",
       "  <thead>\n",
       "    <tr style=\"text-align: right;\">\n",
       "      <th></th>\n",
       "      <th>old_text</th>\n",
       "      <th>text</th>\n",
       "      <th>vectors</th>\n",
       "      <th>expected_label</th>\n",
       "      <th>model_pred</th>\n",
       "    </tr>\n",
       "  </thead>\n",
       "  <tbody>\n",
       "    <tr>\n",
       "      <th>4</th>\n",
       "      <td>If she really did this there she's hardcore﻿</td>\n",
       "      <td>if she really did this there she s hardcore</td>\n",
       "      <td>-1,-1,-1,-1,-1,-1,-1,1,-1</td>\n",
       "      <td>0</td>\n",
       "      <td>1</td>\n",
       "    </tr>\n",
       "    <tr>\n",
       "      <th>9</th>\n",
       "      <td>Katy Perry - Roar (Official): http://youtu.be/CevxZvSJLk8﻿</td>\n",
       "      <td>katy perry   roar  official   http   youtu be cevxzvsjlk</td>\n",
       "      <td>-1,-1,-1,-1,-1,1,-1,-1,-1</td>\n",
       "      <td>0</td>\n",
       "      <td>1</td>\n",
       "    </tr>\n",
       "    <tr>\n",
       "      <th>18</th>\n",
       "      <td>https://www.reverbnation.com/slicknick313/songs﻿</td>\n",
       "      <td>https   www reverbnation com slicknick    songs</td>\n",
       "      <td>0,-1,-1,-1,-1,1,-1,-1,-1</td>\n",
       "      <td>1</td>\n",
       "      <td>0</td>\n",
       "    </tr>\n",
       "    <tr>\n",
       "      <th>19</th>\n",
       "      <td>FREe ITunes Gift card http://shhort.com/a?r=x6J4gBrne﻿</td>\n",
       "      <td>free itunes gift card http   shhort com a r x j gbrne</td>\n",
       "      <td>-1,-1,-1,-1,-1,1,0,-1,-1</td>\n",
       "      <td>1</td>\n",
       "      <td>0</td>\n",
       "    </tr>\n",
       "  </tbody>\n",
       "</table>\n",
       "</div>"
      ],
      "text/plain": [
       "                                                      old_text  \\\n",
       "4                 If she really did this there she's hardcore﻿   \n",
       "9   Katy Perry - Roar (Official): http://youtu.be/CevxZvSJLk8﻿   \n",
       "18            https://www.reverbnation.com/slicknick313/songs﻿   \n",
       "19      FREe ITunes Gift card http://shhort.com/a?r=x6J4gBrne﻿   \n",
       "\n",
       "                                                         text  \\\n",
       "4                 if she really did this there she s hardcore   \n",
       "9   katy perry   roar  official   http   youtu be cevxzvsjlk    \n",
       "18            https   www reverbnation com slicknick    songs   \n",
       "19      free itunes gift card http   shhort com a r x j gbrne   \n",
       "\n",
       "                      vectors  expected_label  model_pred  \n",
       "4   -1,-1,-1,-1,-1,-1,-1,1,-1               0           1  \n",
       "9   -1,-1,-1,-1,-1,1,-1,-1,-1               0           1  \n",
       "18   0,-1,-1,-1,-1,1,-1,-1,-1               1           0  \n",
       "19   -1,-1,-1,-1,-1,1,0,-1,-1               1           0  "
      ]
     },
     "execution_count": 7,
     "metadata": {},
     "output_type": "execute_result"
    }
   ],
   "source": [
    "df_wrongs[['old_text','text','vectors','expected_label','model_pred']]"
   ]
  },
  {
   "cell_type": "code",
   "execution_count": 8,
   "id": "433fd2cf",
   "metadata": {},
   "outputs": [],
   "source": [
    "import nltk\n",
    "text = nltk.word_tokenize(\"She kinda let herself go, huh?\")\n",
    "posstr = ''.join([t[1] for t in nltk.pos_tag(text)])"
   ]
  },
  {
   "cell_type": "code",
   "execution_count": 10,
   "id": "d58e0bc8",
   "metadata": {},
   "outputs": [
    {
     "data": {
      "text/plain": [
       "'PRPVBDVBPRPVB,VB.'"
      ]
     },
     "execution_count": 10,
     "metadata": {},
     "output_type": "execute_result"
    }
   ],
   "source": [
    "posstr"
   ]
  },
  {
   "cell_type": "code",
   "execution_count": null,
   "id": "aa5789f2",
   "metadata": {},
   "outputs": [],
   "source": [
    "\n",
    "song/songs->HAM\n",
    "check->spam\n",
    "love->ham\n",
    "shakira→spam\n",
    "checking->spam\n",
    "http->spam\n",
    "sent>0.5->ham\n",
    "pos(prpvrb)-> spam \n",
    "func_length-> <5->ham"
   ]
  }
 ],
 "metadata": {
  "kernelspec": {
   "display_name": "Python 3 (ipykernel)",
   "language": "python",
   "name": "python3"
  },
  "language_info": {
   "codemirror_mode": {
    "name": "ipython",
    "version": 3
   },
   "file_extension": ".py",
   "mimetype": "text/x-python",
   "name": "python",
   "nbconvert_exporter": "python",
   "pygments_lexer": "ipython3",
   "version": "3.8.0"
  }
 },
 "nbformat": 4,
 "nbformat_minor": 5
}

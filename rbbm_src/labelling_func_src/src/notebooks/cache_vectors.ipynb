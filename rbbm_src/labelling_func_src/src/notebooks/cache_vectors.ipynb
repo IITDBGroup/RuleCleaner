{
 "cells": [
  {
   "cell_type": "code",
   "execution_count": 12,
   "id": "85ac5cbe",
   "metadata": {},
   "outputs": [],
   "source": [
    "import pandas as pd \n",
    "from sklearn.model_selection import train_test_split\n",
    "%config Completer.use_jedi = False\n",
    "from lfs import keyword_free, keyword_gift, keyword_whynot, LFs\n",
    "from snorkel.labeling import PandasLFApplier, filter_unlabeled_dataframe\n",
    "from snorkel.labeling.model import MajorityLabelVoter, LabelModel\n",
    "import numpy as np\n",
    "# importing the module\n",
    "import timeit\n",
    "import random\n",
    "import glob\n",
    "all_filenames = [i for i in glob.glob('data/*.csv')]\n",
    "\n",
    "df = pd.concat([pd.read_csv(f) for f in all_filenames ])\n",
    "df = df.rename(columns={\"CLASS\": \"label\", \"CONTENT\": \"text\"})\n",
    "# df[\"label\"].replace({\"Quality\": HAM, \"Spam\": SPAM}, inplace=True)"
   ]
  },
  {
   "cell_type": "code",
   "execution_count": 13,
   "id": "a501f520",
   "metadata": {},
   "outputs": [],
   "source": [
    "# df = df[:100]"
   ]
  },
  {
   "cell_type": "code",
   "execution_count": 14,
   "id": "b6ca676c",
   "metadata": {},
   "outputs": [],
   "source": [
    "# applier = PandasLFApplier(lfs=[keyword_free, keyword_gift, keyword_whynot])\n",
    "applier = PandasLFApplier(lfs = LFs)"
   ]
  },
  {
   "cell_type": "code",
   "execution_count": 15,
   "id": "8369b9c3",
   "metadata": {},
   "outputs": [],
   "source": [
    "def frm_scratch(repeat=10,df=None):\n",
    "    for i in range(repeat):\n",
    "        print(i)\n",
    "#         rlist = random.sample(range(20), 5)\n",
    "        rlist = [0,1,2,3,4]\n",
    "        lf_used = [LFs[x] for x in rlist]\n",
    "        applier = PandasLFApplier(lfs = lf_used)\n",
    "        model = MajorityLabelVoter(cardinality=2)\n",
    "        soi_labels = applier.apply(df=df, progress_bar=False)\n",
    "        print(soi_labels)\n",
    "#         probs_test= model.predict_proba(L=soi_labels)\n",
    "# #         print(probs_test)\n",
    "#         df_test_filtered, probs_test_filtered = filter_unlabeled_dataframe(\n",
    "#             X=df, y=probs_test, L=soi_labels\n",
    "#         )\n",
    "#         df_test_filtered = df_test_filtered.reset_index(drop=True)\n",
    "#         print(df_test_filtered)\n",
    "#         print(probs_test_filtered)\n",
    "#         print(df.shape)\n",
    "#         print(df_test_filtered.shape)\n",
    "        print(model.predict(L=soi_labels))"
   ]
  },
  {
   "cell_type": "code",
   "execution_count": 16,
   "id": "293f1c48",
   "metadata": {},
   "outputs": [],
   "source": [
    "def use_cache(repeat=100, df=None, vectors=None):\n",
    "    for i in range(repeat):\n",
    "        print(i)\n",
    "#         rlist = random.sample(range(20), 5)\n",
    "        rlist = [0,1,2,3,4]\n",
    "        lf_used = [LFs[x] for x in rlist]\n",
    "        used_vecs = []\n",
    "        for f in lf_used:\n",
    "            used_vecs.append(vectors[f])\n",
    "        model = MajorityLabelVoter(cardinality=2)\n",
    "        soi_labels = np.array(used_vecs).transpose()\n",
    "        print(soi_labels)\n",
    "        probs_test= model.predict_proba(L=soi_labels)\n",
    "#         print(probs_test)\n",
    "        df_test_filtered, probs_test_filtered = filter_unlabeled_dataframe(\n",
    "            X=df, y=probs_test, L=soi_labels\n",
    "        )\n",
    "#         print(probs_test_filtered)\n",
    "#         print(df.shape)\n",
    "#         print(df_test_filtered.shape)\n",
    "        df_test_filtered = df_test_filtered.reset_index(drop=True)\n",
    "        print(model.predict(L=soi_labels))"
   ]
  },
  {
   "cell_type": "code",
   "execution_count": 17,
   "id": "3c3fe37f",
   "metadata": {},
   "outputs": [],
   "source": [
    "applier = PandasLFApplier(lfs = LFs)\n",
    "func_labels = applier.apply(df=df, progress_bar=False)\n",
    "cached_vectors = dict(zip(LFs, np.transpose(func_labels)))"
   ]
  },
  {
   "cell_type": "code",
   "execution_count": 18,
   "id": "0300a961",
   "metadata": {},
   "outputs": [
    {
     "data": {
      "text/plain": [
       "[func: textblob_polarity,\n",
       " func: textblob_subjectivity,\n",
       " func: regex_link,\n",
       " func: has_person_nlp,\n",
       " func: pos_vbprps_stuff,\n",
       " func: check,\n",
       " func: keyword_my,\n",
       " func: keyword_subscribe,\n",
       " func: keyword_please,\n",
       " func: keyword_song,\n",
       " func: keyword_shakira,\n",
       " func: keyword_google,\n",
       " func: keyword_money,\n",
       " func: keyword_facebook,\n",
       " func: keyword_twitter,\n",
       " func: keyword_free,\n",
       " func: keyword_gift,\n",
       " func: keyword_why not,\n",
       " func: nothttp,\n",
       " func: short_comment]"
      ]
     },
     "execution_count": 18,
     "metadata": {},
     "output_type": "execute_result"
    }
   ],
   "source": [
    "LFs"
   ]
  },
  {
   "cell_type": "code",
   "execution_count": 19,
   "id": "db6a6241",
   "metadata": {},
   "outputs": [
    {
     "data": {
      "text/plain": [
       "{func: textblob_polarity: array([-1, -1, -1, ..., -1, -1,  0]),\n",
       " func: textblob_subjectivity: array([0, 0, 0, ..., 0, 0, 0]),\n",
       " func: regex_link: array([-1, -1, -1, ..., -1, -1, -1]),\n",
       " func: has_person_nlp: array([-1, -1, -1, ..., -1,  0, -1]),\n",
       " func: pos_vbprps_stuff: array([-1, -1, -1, ..., -1, -1, -1]),\n",
       " func: check: array([-1, -1, -1, ..., -1, -1, -1]),\n",
       " func: keyword_my: array([-1, -1, -1, ..., -1, -1, -1]),\n",
       " func: keyword_subscribe: array([-1, -1, -1, ...,  1, -1, -1]),\n",
       " func: keyword_please: array([-1, -1, -1, ..., -1, -1, -1]),\n",
       " func: keyword_song: array([ 0,  0,  0, ..., -1, -1, -1]),\n",
       " func: keyword_shakira: array([-1, -1, -1, ..., -1, -1, -1]),\n",
       " func: keyword_google: array([-1, -1, -1, ..., -1, -1, -1]),\n",
       " func: keyword_money: array([-1, -1, -1, ..., -1, -1, -1]),\n",
       " func: keyword_facebook: array([-1, -1, -1, ..., -1, -1, -1]),\n",
       " func: keyword_twitter: array([-1, -1, -1, ..., -1, -1, -1]),\n",
       " func: keyword_free: array([-1, -1, -1, ..., -1, -1, -1]),\n",
       " func: keyword_gift: array([-1, -1, -1, ..., -1, -1, -1]),\n",
       " func: keyword_why not: array([-1, -1, -1, ..., -1, -1, -1]),\n",
       " func: nothttp: array([0, 0, 0, ..., 0, 0, 0]),\n",
       " func: short_comment: array([ 0,  0,  0, ..., -1, -1,  0])}"
      ]
     },
     "execution_count": 19,
     "metadata": {},
     "output_type": "execute_result"
    }
   ],
   "source": [
    "cached_vectors"
   ]
  },
  {
   "cell_type": "code",
   "execution_count": 20,
   "id": "4c960fad",
   "metadata": {
    "scrolled": true
   },
   "outputs": [
    {
     "name": "stdout",
     "output_type": "stream",
     "text": [
      "0\n",
      "[[-1  0 -1 -1 -1]\n",
      " [-1  0 -1 -1 -1]\n",
      " [-1  0 -1 -1 -1]\n",
      " ...\n",
      " [-1  0 -1 -1 -1]\n",
      " [-1  0 -1  0 -1]\n",
      " [ 0  0 -1 -1 -1]]\n",
      "[0 0 0 ... 0 0 0]\n",
      "1\n",
      "[[-1  0 -1 -1 -1]\n",
      " [-1  0 -1 -1 -1]\n",
      " [-1  0 -1 -1 -1]\n",
      " ...\n",
      " [-1  0 -1 -1 -1]\n",
      " [-1  0 -1  0 -1]\n",
      " [ 0  0 -1 -1 -1]]\n",
      "[0 0 0 ... 0 0 0]\n",
      "2\n",
      "[[-1  0 -1 -1 -1]\n",
      " [-1  0 -1 -1 -1]\n",
      " [-1  0 -1 -1 -1]\n",
      " ...\n",
      " [-1  0 -1 -1 -1]\n",
      " [-1  0 -1  0 -1]\n",
      " [ 0  0 -1 -1 -1]]\n",
      "[0 0 0 ... 0 0 0]\n",
      "3\n",
      "[[-1  0 -1 -1 -1]\n",
      " [-1  0 -1 -1 -1]\n",
      " [-1  0 -1 -1 -1]\n",
      " ...\n",
      " [-1  0 -1 -1 -1]\n",
      " [-1  0 -1  0 -1]\n",
      " [ 0  0 -1 -1 -1]]\n",
      "[0 0 0 ... 0 0 0]\n",
      "4\n",
      "[[-1  0 -1 -1 -1]\n",
      " [-1  0 -1 -1 -1]\n",
      " [-1  0 -1 -1 -1]\n",
      " ...\n",
      " [-1  0 -1 -1 -1]\n",
      " [-1  0 -1  0 -1]\n",
      " [ 0  0 -1 -1 -1]]\n",
      "[0 0 0 ... 0 0 0]\n",
      "5\n",
      "[[-1  0 -1 -1 -1]\n",
      " [-1  0 -1 -1 -1]\n",
      " [-1  0 -1 -1 -1]\n",
      " ...\n",
      " [-1  0 -1 -1 -1]\n",
      " [-1  0 -1  0 -1]\n",
      " [ 0  0 -1 -1 -1]]\n",
      "[0 0 0 ... 0 0 0]\n",
      "6\n",
      "[[-1  0 -1 -1 -1]\n",
      " [-1  0 -1 -1 -1]\n",
      " [-1  0 -1 -1 -1]\n",
      " ...\n",
      " [-1  0 -1 -1 -1]\n",
      " [-1  0 -1  0 -1]\n",
      " [ 0  0 -1 -1 -1]]\n",
      "[0 0 0 ... 0 0 0]\n",
      "7\n",
      "[[-1  0 -1 -1 -1]\n",
      " [-1  0 -1 -1 -1]\n",
      " [-1  0 -1 -1 -1]\n",
      " ...\n",
      " [-1  0 -1 -1 -1]\n",
      " [-1  0 -1  0 -1]\n",
      " [ 0  0 -1 -1 -1]]\n",
      "[0 0 0 ... 0 0 0]\n",
      "8\n",
      "[[-1  0 -1 -1 -1]\n",
      " [-1  0 -1 -1 -1]\n",
      " [-1  0 -1 -1 -1]\n",
      " ...\n",
      " [-1  0 -1 -1 -1]\n",
      " [-1  0 -1  0 -1]\n",
      " [ 0  0 -1 -1 -1]]\n",
      "[0 0 0 ... 0 0 0]\n",
      "9\n",
      "[[-1  0 -1 -1 -1]\n",
      " [-1  0 -1 -1 -1]\n",
      " [-1  0 -1 -1 -1]\n",
      " ...\n",
      " [-1  0 -1 -1 -1]\n",
      " [-1  0 -1  0 -1]\n",
      " [ 0  0 -1 -1 -1]]\n",
      "[0 0 0 ... 0 0 0]\n",
      "179.5334341710004\n"
     ]
    }
   ],
   "source": [
    "start1 = timeit.default_timer()\n",
    "\n",
    "frm_scratch(repeat=10,df=df)\n",
    "\n",
    "end1 = timeit.default_timer()\n",
    "\n",
    "print(end1-start1)"
   ]
  },
  {
   "cell_type": "code",
   "execution_count": 21,
   "id": "882dc3bd",
   "metadata": {
    "scrolled": true
   },
   "outputs": [
    {
     "name": "stdout",
     "output_type": "stream",
     "text": [
      "0\n",
      "[[-1  0 -1 -1 -1]\n",
      " [-1  0 -1 -1 -1]\n",
      " [-1  0 -1 -1 -1]\n",
      " ...\n",
      " [-1  0 -1 -1 -1]\n",
      " [-1  0 -1  0 -1]\n",
      " [ 0  0 -1 -1 -1]]\n",
      "[0 0 0 ... 0 0 0]\n",
      "1\n",
      "[[-1  0 -1 -1 -1]\n",
      " [-1  0 -1 -1 -1]\n",
      " [-1  0 -1 -1 -1]\n",
      " ...\n",
      " [-1  0 -1 -1 -1]\n",
      " [-1  0 -1  0 -1]\n",
      " [ 0  0 -1 -1 -1]]\n",
      "[0 0 0 ... 0 0 0]\n",
      "2\n",
      "[[-1  0 -1 -1 -1]\n",
      " [-1  0 -1 -1 -1]\n",
      " [-1  0 -1 -1 -1]\n",
      " ...\n",
      " [-1  0 -1 -1 -1]\n",
      " [-1  0 -1  0 -1]\n",
      " [ 0  0 -1 -1 -1]]\n",
      "[0 0 0 ... 0 0 0]\n",
      "3\n",
      "[[-1  0 -1 -1 -1]\n",
      " [-1  0 -1 -1 -1]\n",
      " [-1  0 -1 -1 -1]\n",
      " ...\n",
      " [-1  0 -1 -1 -1]\n",
      " [-1  0 -1  0 -1]\n",
      " [ 0  0 -1 -1 -1]]\n",
      "[0 0 0 ... 0 0 0]\n",
      "4\n",
      "[[-1  0 -1 -1 -1]\n",
      " [-1  0 -1 -1 -1]\n",
      " [-1  0 -1 -1 -1]\n",
      " ...\n",
      " [-1  0 -1 -1 -1]\n",
      " [-1  0 -1  0 -1]\n",
      " [ 0  0 -1 -1 -1]]\n",
      "[0 0 0 ... 0 0 0]\n",
      "5\n",
      "[[-1  0 -1 -1 -1]\n",
      " [-1  0 -1 -1 -1]\n",
      " [-1  0 -1 -1 -1]\n",
      " ...\n",
      " [-1  0 -1 -1 -1]\n",
      " [-1  0 -1  0 -1]\n",
      " [ 0  0 -1 -1 -1]]\n",
      "[0 0 0 ... 0 0 0]\n",
      "6\n",
      "[[-1  0 -1 -1 -1]\n",
      " [-1  0 -1 -1 -1]\n",
      " [-1  0 -1 -1 -1]\n",
      " ...\n",
      " [-1  0 -1 -1 -1]\n",
      " [-1  0 -1  0 -1]\n",
      " [ 0  0 -1 -1 -1]]\n",
      "[0 0 0 ... 0 0 0]\n",
      "7\n",
      "[[-1  0 -1 -1 -1]\n",
      " [-1  0 -1 -1 -1]\n",
      " [-1  0 -1 -1 -1]\n",
      " ...\n",
      " [-1  0 -1 -1 -1]\n",
      " [-1  0 -1  0 -1]\n",
      " [ 0  0 -1 -1 -1]]\n",
      "[0 0 0 ... 0 0 0]\n",
      "8\n",
      "[[-1  0 -1 -1 -1]\n",
      " [-1  0 -1 -1 -1]\n",
      " [-1  0 -1 -1 -1]\n",
      " ...\n",
      " [-1  0 -1 -1 -1]\n",
      " [-1  0 -1  0 -1]\n",
      " [ 0  0 -1 -1 -1]]\n",
      "[0 0 0 ... 0 0 0]\n",
      "9\n",
      "[[-1  0 -1 -1 -1]\n",
      " [-1  0 -1 -1 -1]\n",
      " [-1  0 -1 -1 -1]\n",
      " ...\n",
      " [-1  0 -1 -1 -1]\n",
      " [-1  0 -1  0 -1]\n",
      " [ 0  0 -1 -1 -1]]\n",
      "[0 0 0 ... 0 0 0]\n",
      "0.7446799030003604\n"
     ]
    }
   ],
   "source": [
    "start2 = timeit.default_timer()\n",
    "\n",
    "use_cache(repeat=10, df=df, vectors=cached_vectors)\n",
    "\n",
    "end2 = timeit.default_timer()\n",
    "\n",
    "print(end2-start2)"
   ]
  },
  {
   "cell_type": "code",
   "execution_count": 24,
   "id": "cc85709a",
   "metadata": {},
   "outputs": [
    {
     "data": {
      "text/plain": [
       "True"
      ]
     },
     "execution_count": 24,
     "metadata": {},
     "output_type": "execute_result"
    }
   ],
   "source": [
    "LFs[0]==LFs[0]"
   ]
  },
  {
   "cell_type": "code",
   "execution_count": 25,
   "id": "b25c3c82",
   "metadata": {},
   "outputs": [],
   "source": [
    "f=LFs[0]"
   ]
  },
  {
   "cell_type": "code",
   "execution_count": 26,
   "id": "afb5e6aa",
   "metadata": {},
   "outputs": [
    {
     "data": {
      "text/plain": [
       "func: textblob_polarity"
      ]
     },
     "execution_count": 26,
     "metadata": {},
     "output_type": "execute_result"
    }
   ],
   "source": [
    "f"
   ]
  },
  {
   "cell_type": "code",
   "execution_count": 31,
   "id": "c1538032",
   "metadata": {},
   "outputs": [],
   "source": [
    "x = [mf for mf in LFs if (mf in LFs[:5] and mf != f)]"
   ]
  },
  {
   "cell_type": "code",
   "execution_count": 32,
   "id": "7a9d38b2",
   "metadata": {},
   "outputs": [
    {
     "data": {
      "text/plain": [
       "[func: textblob_subjectivity,\n",
       " func: regex_link,\n",
       " func: has_person_nlp,\n",
       " func: pos_vbprps_stuff]"
      ]
     },
     "execution_count": 32,
     "metadata": {},
     "output_type": "execute_result"
    }
   ],
   "source": [
    "x"
   ]
  },
  {
   "cell_type": "code",
   "execution_count": 29,
   "id": "90c5ea81",
   "metadata": {},
   "outputs": [
    {
     "data": {
      "text/plain": [
       "[func: textblob_polarity,\n",
       " func: textblob_subjectivity,\n",
       " func: regex_link,\n",
       " func: has_person_nlp,\n",
       " func: pos_vbprps_stuff,\n",
       " func: check,\n",
       " func: keyword_my,\n",
       " func: keyword_subscribe,\n",
       " func: keyword_please,\n",
       " func: keyword_song,\n",
       " func: keyword_shakira,\n",
       " func: keyword_google,\n",
       " func: keyword_money,\n",
       " func: keyword_facebook,\n",
       " func: keyword_twitter,\n",
       " func: keyword_free,\n",
       " func: keyword_gift,\n",
       " func: keyword_why not,\n",
       " func: nothttp,\n",
       " func: short_comment]"
      ]
     },
     "execution_count": 29,
     "metadata": {},
     "output_type": "execute_result"
    }
   ],
   "source": [
    "LFs"
   ]
  }
 ],
 "metadata": {
  "kernelspec": {
   "display_name": "Python 3",
   "language": "python",
   "name": "python3"
  },
  "language_info": {
   "codemirror_mode": {
    "name": "ipython",
    "version": 3
   },
   "file_extension": ".py",
   "mimetype": "text/x-python",
   "name": "python",
   "nbconvert_exporter": "python",
   "pygments_lexer": "ipython3",
   "version": "3.6.15"
  }
 },
 "nbformat": 4,
 "nbformat_minor": 5
}

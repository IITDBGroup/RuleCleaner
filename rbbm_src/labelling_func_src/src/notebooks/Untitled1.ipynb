{
 "cells": [
  {
   "cell_type": "code",
   "execution_count": 1,
   "id": "5c8839b5",
   "metadata": {},
   "outputs": [],
   "source": [
    "from classes import lfunc_dec"
   ]
  },
  {
   "cell_type": "code",
   "execution_count": 2,
   "id": "e697ce73",
   "metadata": {},
   "outputs": [],
   "source": [
    "@lfunc_dec(words_used = ['check'])\n",
    "def check(x):\n",
    "    return SPAM if \"check\" in x.text.lower() else ABSTAINb"
   ]
  },
  {
   "cell_type": "code",
   "execution_count": 3,
   "id": "e91be396",
   "metadata": {},
   "outputs": [
    {
     "name": "stdout",
     "output_type": "stream",
     "text": [
      "<class 'classes.lfunc'>\n"
     ]
    }
   ],
   "source": [
    "print(type(check))"
   ]
  }
 ],
 "metadata": {
  "kernelspec": {
   "display_name": "Python 3 (ipykernel)",
   "language": "python",
   "name": "python3"
  },
  "language_info": {
   "codemirror_mode": {
    "name": "ipython",
    "version": 3
   },
   "file_extension": ".py",
   "mimetype": "text/x-python",
   "name": "python",
   "nbconvert_exporter": "python",
   "pygments_lexer": "ipython3",
   "version": "3.8.0"
  }
 },
 "nbformat": 4,
 "nbformat_minor": 5
}

{
 "cells": [
  {
   "cell_type": "code",
   "execution_count": 19,
   "id": "49616ae2",
   "metadata": {},
   "outputs": [
    {
     "name": "stdout",
     "output_type": "stream",
     "text": [
      "Requirement already satisfied: Lark in /home/jayli/label/lib/python3.6/site-packages (1.1.2)\n",
      "\u001b[33mWARNING: You are using pip version 21.2.3; however, version 21.3.1 is available.\n",
      "You should consider upgrading via the '/home/jayli/label/bin/python -m pip install --upgrade pip' command.\u001b[0m\n"
     ]
    }
   ],
   "source": [
    "!pip install Lark"
   ]
  },
  {
   "cell_type": "code",
   "execution_count": 42,
   "id": "3faff99d",
   "metadata": {},
   "outputs": [],
   "source": [
    "x = \"body     __freemail_safe_fwd  /---\\s?(?:(?:Forwarded|Original) message|Alkuper(?:\\xe4|\\xc3\\xa4)inen viesti)/i\"\n",
    "x1 = \"body __FRAUD_KJV\t/(?:claim|concerning) (?:the|this) money/i\"\n",
    "x2 =\"body __FRAUD_IRJ\t/(?:finance|holding|securit(?:ies|y)) (?:company|firm|storage house)/i\""
   ]
  },
  {
   "cell_type": "code",
   "execution_count": 55,
   "id": "f4bca9d9",
   "metadata": {},
   "outputs": [],
   "source": [
    "from lark import Lark\n",
    "from lark import Token\n",
    "\n",
    "p = Lark(\n",
    "'''\n",
    "start: (rule? _NL)* rule\n",
    "\n",
    "rule: regex_body_rule | describe_rule | test_rule | comment\n",
    "\n",
    "regex_body_rule: \"body\" CNAME REGEX\n",
    "describe_rule: \"describe\" CNAME\n",
    "test_rule: \"test\" CNAME outcome\n",
    "comment: COMMENT\n",
    "\n",
    "outcome: TESTOK | TESTFAILED\n",
    "REGEX: \"/\" /[^\\/]+/ \"/i\"\n",
    "TESTOK: \"ok\"\n",
    "TESTFAILED: \"failed\"\n",
    "\n",
    "%import common.WORD\n",
    "%import common.WS_INLINE\n",
    "%import common.CNAME\n",
    "%import common.SH_COMMENT -> COMMENT\n",
    "%import common.NEWLINE -> _NL\n",
    "%ignore WS_INLINE\n",
    "%ignore COMMENT\n",
    "'''\n",
    "    )\n",
    "\n",
    "\n",
    "ptree = p.parse(x2)"
   ]
  },
  {
   "cell_type": "code",
   "execution_count": 56,
   "id": "823655c3",
   "metadata": {},
   "outputs": [],
   "source": [
    "tokens = [t for t in ptree.scan_values(lambda v: isinstance(v, Token))]"
   ]
  },
  {
   "cell_type": "code",
   "execution_count": 63,
   "id": "9954e748",
   "metadata": {},
   "outputs": [
    {
     "name": "stdout",
     "output_type": "stream",
     "text": [
      "CNAME:__FRAUD_IRJ\n",
      "REGEX:(?:finance|holding|securit(?:ies|y)) (?:company|firm|storage house)\n"
     ]
    }
   ],
   "source": [
    "for t in tokens:\n",
    "    print(f\"{t.type}:{t.value.strip('//i')}\")"
   ]
  },
  {
   "cell_type": "code",
   "execution_count": 44,
   "id": "374d46f3",
   "metadata": {},
   "outputs": [
    {
     "name": "stdout",
     "output_type": "stream",
     "text": [
      "start\n",
      "  rule\n",
      "    regex_body_rule\n",
      "      __FRAUD_IRJ\n",
      "      /(?:finance|holding|securit(?:ies|y)) (?:company|firm|storage house)/i\n",
      "\n"
     ]
    }
   ],
   "source": [
    "print(ptree.pretty())"
   ]
  }
 ],
 "metadata": {
  "kernelspec": {
   "display_name": "Python 3",
   "language": "python",
   "name": "python3"
  },
  "language_info": {
   "codemirror_mode": {
    "name": "ipython",
    "version": 3
   },
   "file_extension": ".py",
   "mimetype": "text/x-python",
   "name": "python",
   "nbconvert_exporter": "python",
   "pygments_lexer": "ipython3",
   "version": "3.6.15"
  }
 },
 "nbformat": 4,
 "nbformat_minor": 5
}

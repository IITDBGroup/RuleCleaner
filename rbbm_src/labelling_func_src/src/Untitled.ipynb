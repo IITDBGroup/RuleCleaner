{
 "cells": [
  {
   "cell_type": "code",
   "execution_count": 18,
   "id": "1c9cc66c",
   "metadata": {},
   "outputs": [],
   "source": [
    "my_dict = {\"1_2\": {'pair':'blah1', 'rules':[1]}, \"3_4\": {'pair':'blah1', 'rules':[1,2]}, \"5_6\": {'pair':'blah1', 'rules':[1,2,3]}}\n",
    "tuple_from_dict = sorted(my_dict.items(),  key=lambda x: len(x[1]['rules']), reverse=True)\n",
    "# sorted_list = sorted(my_dict.items(), key=lambda x: len(x[1]['rules']))\n",
    "\n",
    "t = tuple_from_dict"
   ]
  },
  {
   "cell_type": "code",
   "execution_count": 19,
   "id": "708329fb",
   "metadata": {},
   "outputs": [
    {
     "data": {
      "text/plain": [
       "'5_6'"
      ]
     },
     "execution_count": 19,
     "metadata": {},
     "output_type": "execute_result"
    }
   ],
   "source": [
    "t[0][0]"
   ]
  },
  {
   "cell_type": "code",
   "execution_count": 20,
   "id": "c40c0658",
   "metadata": {},
   "outputs": [],
   "source": [
    "x,y = [int(x) for x in t[0][0].split('_')]"
   ]
  },
  {
   "cell_type": "code",
   "execution_count": 21,
   "id": "77bec2de",
   "metadata": {},
   "outputs": [
    {
     "data": {
      "text/plain": [
       "5"
      ]
     },
     "execution_count": 21,
     "metadata": {},
     "output_type": "execute_result"
    }
   ],
   "source": [
    "x"
   ]
  },
  {
   "cell_type": "code",
   "execution_count": 22,
   "id": "9a75cc1f",
   "metadata": {},
   "outputs": [
    {
     "data": {
      "text/plain": [
       "6"
      ]
     },
     "execution_count": 22,
     "metadata": {},
     "output_type": "execute_result"
    }
   ],
   "source": [
    "y"
   ]
  },
  {
   "cell_type": "code",
   "execution_count": 12,
   "id": "5c4d9325",
   "metadata": {},
   "outputs": [
    {
     "data": {
      "text/plain": [
       "list"
      ]
     },
     "execution_count": 12,
     "metadata": {},
     "output_type": "execute_result"
    }
   ],
   "source": [
    "type(t)"
   ]
  },
  {
   "cell_type": "code",
   "execution_count": 13,
   "id": "efab577c",
   "metadata": {},
   "outputs": [
    {
     "data": {
      "text/plain": [
       "('c', {'pair': 'blah1', 'rules': [1, 2, 3]})"
      ]
     },
     "execution_count": 13,
     "metadata": {},
     "output_type": "execute_result"
    }
   ],
   "source": [
    "t[0]"
   ]
  }
 ],
 "metadata": {
  "kernelspec": {
   "display_name": "Python 3 (ipykernel)",
   "language": "python",
   "name": "python3"
  },
  "language_info": {
   "codemirror_mode": {
    "name": "ipython",
    "version": 3
   },
   "file_extension": ".py",
   "mimetype": "text/x-python",
   "name": "python",
   "nbconvert_exporter": "python",
   "pygments_lexer": "ipython3",
   "version": "3.8.0"
  }
 },
 "nbformat": 4,
 "nbformat_minor": 5
}

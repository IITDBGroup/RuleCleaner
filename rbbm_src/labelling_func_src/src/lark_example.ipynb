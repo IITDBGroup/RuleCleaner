{
 "cells": [
  {
   "cell_type": "code",
   "execution_count": 1,
   "id": "3b0113ba",
   "metadata": {},
   "outputs": [],
   "source": [
    "import re \n",
    "from lark import Lark, Token"
   ]
  },
  {
   "cell_type": "code",
   "execution_count": 30,
   "id": "43b6d428",
   "metadata": {},
   "outputs": [],
   "source": [
    "p = Lark(\n",
    "'''\n",
    "start: rules\n",
    "\n",
    "rules: (rule? _NL)* rule\n",
    "\n",
    "rule: regex_body_rule | describe_rule | test_rule | comment\n",
    "\n",
    "regex_body_rule: \"body\" CNAME perl_regex\n",
    "describe_rule: \"describe\" CNAME description\n",
    "test_rule: \"test\" CNAME outcome description\n",
    "comment: COMMENT\n",
    "\n",
    "perl_regex: \"/\" regex \"/\" opt_modifier?\n",
    "opt_modifier: \"i\"\n",
    "\n",
    "regex: primitive\n",
    "       | _seperated{regex, \"|\"}  -> regex_alternatives\n",
    "       | \"(\" regex \")\" -> regex_group\n",
    "       | regex regex+ -> regex_sequence\n",
    "       | regex \"?\" -> regex_optional\n",
    "       | regex \"*\" -> regex_zero_or_more\n",
    "       | regex \"+\" -> regex_one_or_more\n",
    "       | regex \"{\" NUMBER \"}\" -> regex_n_exactly\n",
    "       | regex \"{\" NUMBER \",\" \"}\" -> regex_n_at_least\n",
    "       | regex \"{\" \",\" NUMBER \"}\" -> regex_n_at_most\n",
    "       | regex \"{\" NUMBER \",\" NUMBER \"}\" -> regex_n_to_m\n",
    "       | regex CNAME ->regex_characters\n",
    "       | regex \"\\b\" ->regex_word_boundary\n",
    "\n",
    "primitive: \"[\" /[^]]/+ \"]\" -> charclass\n",
    "         | \"^\" -> bol\n",
    "         | \"$\" -> eol\n",
    "         | \".\" -> anychar\n",
    "\n",
    "\n",
    "description: /.+/\n",
    "\n",
    "outcome: TESTOK | TESTFAILED\n",
    "REGEX: \"/\" /[^\\/]+/ \"/\"\n",
    "TESTOK: \"ok\"\n",
    "TESTFAILED: \"failed\"\n",
    "\n",
    "_seperated{x, sep}: x (sep x)*  // Define a sequence of 'x sep x sep x ...'\n",
    "\n",
    "%import common.WORD\n",
    "%import common.WS_INLINE\n",
    "%import common.CNAME\n",
    "%import common.NUMBER\n",
    "%import common.SH_COMMENT -> COMMENT\n",
    "%import common.NEWLINE -> _NL\n",
    "\n",
    "%ignore WS_INLINE\n",
    "%ignore COMMENT\n",
    "'''\n",
    "    )\n"
   ]
  },
  {
   "cell_type": "code",
   "execution_count": 31,
   "id": "5c935f22",
   "metadata": {},
   "outputs": [],
   "source": [
    "text = 'body VIA_GAP_GRA                /\\babcd\\b/i'"
   ]
  },
  {
   "cell_type": "code",
   "execution_count": 32,
   "id": "986488fe",
   "metadata": {},
   "outputs": [
    {
     "ename": "UnexpectedCharacters",
     "evalue": "No terminal matches '\b' in the current parser context, at line 1 col 34\n\nbody VIA_GAP_GRA                /\babcd\b/i\n                                 ^\nExpected one of: \n\t* CIRCUMFLEX\n\t* LSQB\n\t* DOLLAR\n\t* LPAR\n\t* DOT\n",
     "output_type": "error",
     "traceback": [
      "\u001b[0;31m---------------------------------------------------------------------------\u001b[0m",
      "\u001b[0;31mUnexpectedCharacters\u001b[0m                      Traceback (most recent call last)",
      "\u001b[0;32m<ipython-input-32-af52266ef4ea>\u001b[0m in \u001b[0;36m<module>\u001b[0;34m\u001b[0m\n\u001b[0;32m----> 1\u001b[0;31m \u001b[0mtree\u001b[0m \u001b[0;34m=\u001b[0m \u001b[0mp\u001b[0m\u001b[0;34m.\u001b[0m\u001b[0mparse\u001b[0m\u001b[0;34m(\u001b[0m\u001b[0mtext\u001b[0m\u001b[0;34m)\u001b[0m\u001b[0;34m\u001b[0m\u001b[0;34m\u001b[0m\u001b[0m\n\u001b[0m",
      "\u001b[0;32m~/label/lib/python3.6/site-packages/lark/lark.py\u001b[0m in \u001b[0;36mparse\u001b[0;34m(self, text, start, on_error)\u001b[0m\n\u001b[1;32m    623\u001b[0m \u001b[0;34m\u001b[0m\u001b[0m\n\u001b[1;32m    624\u001b[0m         \"\"\"\n\u001b[0;32m--> 625\u001b[0;31m         \u001b[0;32mreturn\u001b[0m \u001b[0mself\u001b[0m\u001b[0;34m.\u001b[0m\u001b[0mparser\u001b[0m\u001b[0;34m.\u001b[0m\u001b[0mparse\u001b[0m\u001b[0;34m(\u001b[0m\u001b[0mtext\u001b[0m\u001b[0;34m,\u001b[0m \u001b[0mstart\u001b[0m\u001b[0;34m=\u001b[0m\u001b[0mstart\u001b[0m\u001b[0;34m,\u001b[0m \u001b[0mon_error\u001b[0m\u001b[0;34m=\u001b[0m\u001b[0mon_error\u001b[0m\u001b[0;34m)\u001b[0m\u001b[0;34m\u001b[0m\u001b[0;34m\u001b[0m\u001b[0m\n\u001b[0m\u001b[1;32m    626\u001b[0m \u001b[0;34m\u001b[0m\u001b[0m\n\u001b[1;32m    627\u001b[0m \u001b[0;34m\u001b[0m\u001b[0m\n",
      "\u001b[0;32m~/label/lib/python3.6/site-packages/lark/parser_frontends.py\u001b[0m in \u001b[0;36mparse\u001b[0;34m(self, text, start, on_error)\u001b[0m\n\u001b[1;32m     94\u001b[0m         \u001b[0mkw\u001b[0m \u001b[0;34m=\u001b[0m \u001b[0;34m{\u001b[0m\u001b[0;34m}\u001b[0m \u001b[0;32mif\u001b[0m \u001b[0mon_error\u001b[0m \u001b[0;32mis\u001b[0m \u001b[0;32mNone\u001b[0m \u001b[0;32melse\u001b[0m \u001b[0;34m{\u001b[0m\u001b[0;34m'on_error'\u001b[0m\u001b[0;34m:\u001b[0m \u001b[0mon_error\u001b[0m\u001b[0;34m}\u001b[0m\u001b[0;34m\u001b[0m\u001b[0;34m\u001b[0m\u001b[0m\n\u001b[1;32m     95\u001b[0m         \u001b[0mstream\u001b[0m \u001b[0;34m=\u001b[0m \u001b[0mself\u001b[0m\u001b[0;34m.\u001b[0m\u001b[0m_make_lexer_thread\u001b[0m\u001b[0;34m(\u001b[0m\u001b[0mtext\u001b[0m\u001b[0;34m)\u001b[0m\u001b[0;34m\u001b[0m\u001b[0;34m\u001b[0m\u001b[0m\n\u001b[0;32m---> 96\u001b[0;31m         \u001b[0;32mreturn\u001b[0m \u001b[0mself\u001b[0m\u001b[0;34m.\u001b[0m\u001b[0mparser\u001b[0m\u001b[0;34m.\u001b[0m\u001b[0mparse\u001b[0m\u001b[0;34m(\u001b[0m\u001b[0mstream\u001b[0m\u001b[0;34m,\u001b[0m \u001b[0mchosen_start\u001b[0m\u001b[0;34m,\u001b[0m \u001b[0;34m**\u001b[0m\u001b[0mkw\u001b[0m\u001b[0;34m)\u001b[0m\u001b[0;34m\u001b[0m\u001b[0;34m\u001b[0m\u001b[0m\n\u001b[0m\u001b[1;32m     97\u001b[0m \u001b[0;34m\u001b[0m\u001b[0m\n\u001b[1;32m     98\u001b[0m     \u001b[0;32mdef\u001b[0m \u001b[0mparse_interactive\u001b[0m\u001b[0;34m(\u001b[0m\u001b[0mself\u001b[0m\u001b[0;34m,\u001b[0m \u001b[0mtext\u001b[0m\u001b[0;34m=\u001b[0m\u001b[0;32mNone\u001b[0m\u001b[0;34m,\u001b[0m \u001b[0mstart\u001b[0m\u001b[0;34m=\u001b[0m\u001b[0;32mNone\u001b[0m\u001b[0;34m)\u001b[0m\u001b[0;34m:\u001b[0m\u001b[0;34m\u001b[0m\u001b[0;34m\u001b[0m\u001b[0m\n",
      "\u001b[0;32m~/label/lib/python3.6/site-packages/lark/parsers/earley.py\u001b[0m in \u001b[0;36mparse\u001b[0;34m(self, lexer, start)\u001b[0m\n\u001b[1;32m    264\u001b[0m                 \u001b[0mcolumns\u001b[0m\u001b[0;34m[\u001b[0m\u001b[0;36m0\u001b[0m\u001b[0;34m]\u001b[0m\u001b[0;34m.\u001b[0m\u001b[0madd\u001b[0m\u001b[0;34m(\u001b[0m\u001b[0mitem\u001b[0m\u001b[0;34m)\u001b[0m\u001b[0;34m\u001b[0m\u001b[0;34m\u001b[0m\u001b[0m\n\u001b[1;32m    265\u001b[0m \u001b[0;34m\u001b[0m\u001b[0m\n\u001b[0;32m--> 266\u001b[0;31m         \u001b[0mto_scan\u001b[0m \u001b[0;34m=\u001b[0m \u001b[0mself\u001b[0m\u001b[0;34m.\u001b[0m\u001b[0m_parse\u001b[0m\u001b[0;34m(\u001b[0m\u001b[0mlexer\u001b[0m\u001b[0;34m,\u001b[0m \u001b[0mcolumns\u001b[0m\u001b[0;34m,\u001b[0m \u001b[0mto_scan\u001b[0m\u001b[0;34m,\u001b[0m \u001b[0mstart_symbol\u001b[0m\u001b[0;34m)\u001b[0m\u001b[0;34m\u001b[0m\u001b[0;34m\u001b[0m\u001b[0m\n\u001b[0m\u001b[1;32m    267\u001b[0m \u001b[0;34m\u001b[0m\u001b[0m\n\u001b[1;32m    268\u001b[0m         \u001b[0;31m# If the parse was successful, the start\u001b[0m\u001b[0;34m\u001b[0m\u001b[0;34m\u001b[0m\u001b[0;34m\u001b[0m\u001b[0m\n",
      "\u001b[0;32m~/label/lib/python3.6/site-packages/lark/parsers/xearley.py\u001b[0m in \u001b[0;36m_parse\u001b[0;34m(self, stream, columns, to_scan, start_symbol)\u001b[0m\n\u001b[1;32m    144\u001b[0m             \u001b[0mself\u001b[0m\u001b[0;34m.\u001b[0m\u001b[0mpredict_and_complete\u001b[0m\u001b[0;34m(\u001b[0m\u001b[0mi\u001b[0m\u001b[0;34m,\u001b[0m \u001b[0mto_scan\u001b[0m\u001b[0;34m,\u001b[0m \u001b[0mcolumns\u001b[0m\u001b[0;34m,\u001b[0m \u001b[0mtransitives\u001b[0m\u001b[0;34m)\u001b[0m\u001b[0;34m\u001b[0m\u001b[0;34m\u001b[0m\u001b[0m\n\u001b[1;32m    145\u001b[0m \u001b[0;34m\u001b[0m\u001b[0m\n\u001b[0;32m--> 146\u001b[0;31m             \u001b[0mto_scan\u001b[0m \u001b[0;34m=\u001b[0m \u001b[0mscan\u001b[0m\u001b[0;34m(\u001b[0m\u001b[0mi\u001b[0m\u001b[0;34m,\u001b[0m \u001b[0mto_scan\u001b[0m\u001b[0;34m)\u001b[0m\u001b[0;34m\u001b[0m\u001b[0;34m\u001b[0m\u001b[0m\n\u001b[0m\u001b[1;32m    147\u001b[0m \u001b[0;34m\u001b[0m\u001b[0m\n\u001b[1;32m    148\u001b[0m             \u001b[0;32mif\u001b[0m \u001b[0mtoken\u001b[0m \u001b[0;34m==\u001b[0m \u001b[0;34m'\\n'\u001b[0m\u001b[0;34m:\u001b[0m\u001b[0;34m\u001b[0m\u001b[0;34m\u001b[0m\u001b[0m\n",
      "\u001b[0;32m~/label/lib/python3.6/site-packages/lark/parsers/xearley.py\u001b[0m in \u001b[0;36mscan\u001b[0;34m(i, to_scan)\u001b[0m\n\u001b[1;32m    119\u001b[0m                 raise UnexpectedCharacters(stream, i, text_line, text_column, {item.expect.name for item in to_scan},\n\u001b[1;32m    120\u001b[0m                                            \u001b[0mset\u001b[0m\u001b[0;34m(\u001b[0m\u001b[0mto_scan\u001b[0m\u001b[0;34m)\u001b[0m\u001b[0;34m,\u001b[0m \u001b[0mstate\u001b[0m\u001b[0;34m=\u001b[0m\u001b[0mfrozenset\u001b[0m\u001b[0;34m(\u001b[0m\u001b[0mi\u001b[0m\u001b[0;34m.\u001b[0m\u001b[0ms\u001b[0m \u001b[0;32mfor\u001b[0m \u001b[0mi\u001b[0m \u001b[0;32min\u001b[0m \u001b[0mto_scan\u001b[0m\u001b[0;34m)\u001b[0m\u001b[0;34m,\u001b[0m\u001b[0;34m\u001b[0m\u001b[0;34m\u001b[0m\u001b[0m\n\u001b[0;32m--> 121\u001b[0;31m                                            \u001b[0mconsidered_rules\u001b[0m\u001b[0;34m=\u001b[0m\u001b[0mconsidered_rules\u001b[0m\u001b[0;34m\u001b[0m\u001b[0;34m\u001b[0m\u001b[0m\n\u001b[0m\u001b[1;32m    122\u001b[0m                                            )\n\u001b[1;32m    123\u001b[0m \u001b[0;34m\u001b[0m\u001b[0m\n",
      "\u001b[0;31mUnexpectedCharacters\u001b[0m: No terminal matches '\b' in the current parser context, at line 1 col 34\n\nbody VIA_GAP_GRA                /\babcd\b/i\n                                 ^\nExpected one of: \n\t* CIRCUMFLEX\n\t* LSQB\n\t* DOLLAR\n\t* LPAR\n\t* DOT\n"
     ]
    }
   ],
   "source": [
    "tree = p.parse(text)"
   ]
  },
  {
   "cell_type": "code",
   "execution_count": null,
   "id": "5d109fa4",
   "metadata": {},
   "outputs": [],
   "source": []
  }
 ],
 "metadata": {
  "kernelspec": {
   "display_name": "Python 3 (ipykernel)",
   "language": "python",
   "name": "python3"
  },
  "language_info": {
   "codemirror_mode": {
    "name": "ipython",
    "version": 3
   },
   "file_extension": ".py",
   "mimetype": "text/x-python",
   "name": "python",
   "nbconvert_exporter": "python",
   "pygments_lexer": "ipython3",
   "version": "3.8.0"
  }
 },
 "nbformat": 4,
 "nbformat_minor": 5
}

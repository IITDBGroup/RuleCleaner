{
 "cells": [
  {
   "cell_type": "code",
   "execution_count": 1,
   "id": "dc413605",
   "metadata": {},
   "outputs": [],
   "source": [
    "import pandas as pd"
   ]
  },
  {
   "cell_type": "code",
   "execution_count": 2,
   "id": "33ff54ac",
   "metadata": {},
   "outputs": [
    {
     "name": "stdout",
     "output_type": "stream",
     "text": [
      "        prod_name                                product_desc   pid\n",
      "0      Widget Pro       A high-end widget with multiple uses.  1001\n",
      "1       Gadget Go     Compact and portable gadget for travel.  1002\n",
      "2  Thingamajig XL  Larger version of the classic thingamajig.  1003\n",
      "3  Doohickey Mini              Small and efficient doohickey.  1004\n",
      "4  Gizmo Advanced     Advanced version of the standard gizmo.  1005\n"
     ]
    }
   ],
   "source": [
    "import pandas as pd\n",
    "\n",
    "# Data for the DataFrame\n",
    "data = {\n",
    "    'prod_name': ['Widget Pro', 'Gadget Go', 'Thingamajig XL', 'Doohickey Mini', 'Gizmo Advanced'],\n",
    "    'product_desc': [\n",
    "        'A high-end widget with multiple uses.',\n",
    "        'Compact and portable gadget for travel.',\n",
    "        'Larger version of the classic thingamajig.',\n",
    "        'Small and efficient doohickey.',\n",
    "        'Advanced version of the standard gizmo.'\n",
    "    ],\n",
    "    'pid': [1001, 1002, 1003, 1004, 1005]\n",
    "}\n",
    "\n",
    "# Create the DataFrame\n",
    "df = pd.DataFrame(data)\n",
    "\n",
    "# Display the DataFrame\n",
    "print(df)\n",
    "\n"
   ]
  },
  {
   "cell_type": "code",
   "execution_count": 3,
   "id": "36f9e888",
   "metadata": {},
   "outputs": [
    {
     "data": {
      "text/html": [
       "<div>\n",
       "<style scoped>\n",
       "    .dataframe tbody tr th:only-of-type {\n",
       "        vertical-align: middle;\n",
       "    }\n",
       "\n",
       "    .dataframe tbody tr th {\n",
       "        vertical-align: top;\n",
       "    }\n",
       "\n",
       "    .dataframe thead th {\n",
       "        text-align: right;\n",
       "    }\n",
       "</style>\n",
       "<table border=\"1\" class=\"dataframe\">\n",
       "  <thead>\n",
       "    <tr style=\"text-align: right;\">\n",
       "      <th></th>\n",
       "      <th>prod_name</th>\n",
       "      <th>product_desc</th>\n",
       "      <th>pid</th>\n",
       "    </tr>\n",
       "  </thead>\n",
       "  <tbody>\n",
       "    <tr>\n",
       "      <th>0</th>\n",
       "      <td>Widget Pro</td>\n",
       "      <td>A high-end widget with multiple uses.</td>\n",
       "      <td>1001</td>\n",
       "    </tr>\n",
       "    <tr>\n",
       "      <th>1</th>\n",
       "      <td>Gadget Go</td>\n",
       "      <td>Compact and portable gadget for travel.</td>\n",
       "      <td>1002</td>\n",
       "    </tr>\n",
       "    <tr>\n",
       "      <th>2</th>\n",
       "      <td>Thingamajig XL</td>\n",
       "      <td>Larger version of the classic thingamajig.</td>\n",
       "      <td>1003</td>\n",
       "    </tr>\n",
       "    <tr>\n",
       "      <th>3</th>\n",
       "      <td>Doohickey Mini</td>\n",
       "      <td>Small and efficient doohickey.</td>\n",
       "      <td>1004</td>\n",
       "    </tr>\n",
       "    <tr>\n",
       "      <th>4</th>\n",
       "      <td>Gizmo Advanced</td>\n",
       "      <td>Advanced version of the standard gizmo.</td>\n",
       "      <td>1005</td>\n",
       "    </tr>\n",
       "  </tbody>\n",
       "</table>\n",
       "</div>"
      ],
      "text/plain": [
       "        prod_name                                product_desc   pid\n",
       "0      Widget Pro       A high-end widget with multiple uses.  1001\n",
       "1       Gadget Go     Compact and portable gadget for travel.  1002\n",
       "2  Thingamajig XL  Larger version of the classic thingamajig.  1003\n",
       "3  Doohickey Mini              Small and efficient doohickey.  1004\n",
       "4  Gizmo Advanced     Advanced version of the standard gizmo.  1005"
      ]
     },
     "execution_count": 3,
     "metadata": {},
     "output_type": "execute_result"
    }
   ],
   "source": [
    "df"
   ]
  },
  {
   "cell_type": "code",
   "execution_count": 4,
   "id": "1c4b3c12",
   "metadata": {},
   "outputs": [
    {
     "data": {
      "text/plain": [
       "[1001, 1002, 1003, 1004, 1005]"
      ]
     },
     "execution_count": 4,
     "metadata": {},
     "output_type": "execute_result"
    }
   ],
   "source": [
    "list(df['pid'])"
   ]
  },
  {
   "cell_type": "code",
   "execution_count": null,
   "id": "15d0e376",
   "metadata": {},
   "outputs": [],
   "source": []
  }
 ],
 "metadata": {
  "kernelspec": {
   "display_name": "Python 3 (ipykernel)",
   "language": "python",
   "name": "python3"
  },
  "language_info": {
   "codemirror_mode": {
    "name": "ipython",
    "version": 3
   },
   "file_extension": ".py",
   "mimetype": "text/x-python",
   "name": "python",
   "nbconvert_exporter": "python",
   "pygments_lexer": "ipython3",
   "version": "3.8.0"
  }
 },
 "nbformat": 4,
 "nbformat_minor": 5
}

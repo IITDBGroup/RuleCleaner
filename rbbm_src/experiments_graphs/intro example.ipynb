{
 "cells": [
  {
   "cell_type": "code",
   "execution_count": 1,
   "id": "dc11fd79",
   "metadata": {},
   "outputs": [],
   "source": [
    "import pandas as pd\n",
    "import glob\n",
    "# from lfs_tree import *\n",
    "import logging\n",
    "logger = logging.getLogger()\n",
    "logger.setLevel(logging.CRITICAL)\n",
    "import pydot\n",
    "import networkx as nx\n",
    "from string import Template\n",
    "import pandas as pd\n",
    "import glob\n",
    "import pydot\n",
    "pd.set_option('display.max_rows', None)\n",
    "pd.set_option('display.max_columns', None)\n",
    "pd.set_option('display.max_colwidth', None)\n",
    "import pickle\n",
    "from IPython.display import Image, display"
   ]
  },
  {
   "cell_type": "code",
   "execution_count": 2,
   "id": "065e472d",
   "metadata": {},
   "outputs": [],
   "source": [
    "# def show_stats(directory):\n",
    "#     f = glob.glob(f'{directory}*experiment_stats')[0]\n",
    "#     print(f)\n",
    "def view_pydot(pdot):\n",
    "    plt = Image(pdot.create_png())\n",
    "    display(plt)\n",
    "\n",
    "def show_trees(directory):\n",
    "    print(directory)\n",
    "    treefiles = glob.glob(f'{directory}*tree_*')\n",
    "    num_trees_per_strat = len(treefiles)/2\n",
    "    for i in range(0, int(num_trees_per_strat)):\n",
    "        for f in glob.glob(f'{directory}*tree_*_{i}*'):\n",
    "            file = open(f)\n",
    "            dot_string = file.read()\n",
    "            print(f)\n",
    "            graph = pydot.graph_from_dot_data(dot_string)[0]\n",
    "            view_pydot(graph)\n",
    "            print('\\n')\n",
    "def show_stats(directory):\n",
    "    f = glob.glob(f'{directory}*experiment_stats')[0]\n",
    "    print(f)\n",
    "#                                 experiment_stats\n",
    "#     file = open('../intro_example/experiment_stats')\n",
    "    df = pd.read_csv(f)\n",
    "    print(df)\n",
    "    return df\n",
    "\n",
    "def show_user_inputs(directory):\n",
    "    f = glob.glob(f'{directory}sampled*')[0]\n",
    "    df = pd.read_csv(f)\n",
    "    print(list(df))\n",
    "    return df[['text', 'expected_label', 'model_pred', 'id']].sort_values(by=['text'])\n",
    "\n",
    "def view_repair_bookkeeping_results(directory):\n",
    "    print(glob.glob(f'{directory}*book_keeping_dict*'))\n",
    "    f = glob.glob(f'{directory}*book_keeping_dict*')[0]\n",
    "#               20230921002723fix_book_keeping_dict.pkl\n",
    "    with open(f, 'rb') as file:\n",
    "        # Load the object from the file\n",
    "        loaded_object = pickle.load(file)\n",
    "#         print(\"Object loaded successfully:\")\n",
    "#         print(loaded_object)\n",
    "    return loaded_object"
   ]
  },
  {
   "cell_type": "markdown",
   "id": "67455c2d",
   "metadata": {},
   "source": [
    "# LF"
   ]
  },
  {
   "cell_type": "code",
   "execution_count": null,
   "id": "418be1ef",
   "metadata": {},
   "outputs": [],
   "source": [
    "show_trees('../')"
   ]
  }
 ],
 "metadata": {
  "kernelspec": {
   "display_name": "Python 3 (ipykernel)",
   "language": "python",
   "name": "python3"
  },
  "language_info": {
   "codemirror_mode": {
    "name": "ipython",
    "version": 3
   },
   "file_extension": ".py",
   "mimetype": "text/x-python",
   "name": "python",
   "nbconvert_exporter": "python",
   "pygments_lexer": "ipython3",
   "version": "3.8.0"
  }
 },
 "nbformat": 4,
 "nbformat_minor": 5
}

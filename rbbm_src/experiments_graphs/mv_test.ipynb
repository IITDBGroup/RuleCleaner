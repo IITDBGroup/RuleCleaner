{
 "cells": [
  {
   "cell_type": "code",
   "execution_count": 14,
   "id": "9e46acd1",
   "metadata": {},
   "outputs": [],
   "source": [
    "from snorkel.labeling.model import MajorityLabelVoter, LabelModel\n",
    "from snorkel.labeling import labeling_function\n",
    "from snorkel.labeling import PandasLFApplier\n",
    "\n",
    "\n",
    "ABSTAIN = -1\n",
    "HAM = 0\n",
    "SPAM = 1\n"
   ]
  },
  {
   "cell_type": "code",
   "execution_count": 22,
   "id": "9d3b3e5c",
   "metadata": {},
   "outputs": [],
   "source": [
    "import pandas as pd \n",
    "@labeling_function()\n",
    "def lf_contains_link(x):\n",
    "    # Return a label of SPAM if \"http\" in comment text, otherwise ABSTAIN\n",
    "    return SPAM if \"sample\" in x.text.lower() else ABSTAIN\n",
    "\n",
    "@labeling_function()\n",
    "def check(x):\n",
    "    return SPAM if \"rxample\" in x.text.lower() else ABSTAIN\n",
    "\n",
    "\n",
    "@labeling_function()\n",
    "def check_out(x):\n",
    "    return SPAM if \"text\" in x.text.lower() else ABSTAIN"
   ]
  },
  {
   "cell_type": "code",
   "execution_count": 23,
   "id": "562e3d04",
   "metadata": {},
   "outputs": [],
   "source": [
    "lfs = [lf_contains_link, check, check_out]"
   ]
  },
  {
   "cell_type": "code",
   "execution_count": 24,
   "id": "32a3aed4",
   "metadata": {},
   "outputs": [],
   "source": [
    "data = {\n",
    "    'text': ['Sample text 1', 'Example text 2', 'Demo text 3', 'Test text 4', 'Data text 5'],\n",
    "    'label': [1, 0, 1, 0, 1]\n",
    "}\n",
    "\n",
    "# Create the DataFrame\n",
    "df = pd.DataFrame(data)"
   ]
  },
  {
   "cell_type": "code",
   "execution_count": 25,
   "id": "7a106ae2",
   "metadata": {},
   "outputs": [],
   "source": [
    "applier = PandasLFApplier(lfs)\n",
    "initial_vectors = applier.apply(df=df, progress_bar=False)"
   ]
  },
  {
   "cell_type": "code",
   "execution_count": 26,
   "id": "63af0131",
   "metadata": {},
   "outputs": [],
   "source": [
    "model = MajorityLabelVoter()"
   ]
  },
  {
   "cell_type": "code",
   "execution_count": 27,
   "id": "12ffe651",
   "metadata": {},
   "outputs": [],
   "source": [
    "probs_test= model.predict_proba(L=initial_vectors)"
   ]
  },
  {
   "cell_type": "code",
   "execution_count": 28,
   "id": "a15cddb1",
   "metadata": {},
   "outputs": [
    {
     "data": {
      "text/plain": [
       "array([[0., 1.],\n",
       "       [0., 1.],\n",
       "       [0., 1.],\n",
       "       [0., 1.],\n",
       "       [0., 1.]])"
      ]
     },
     "execution_count": 28,
     "metadata": {},
     "output_type": "execute_result"
    }
   ],
   "source": [
    "probs_test"
   ]
  }
 ],
 "metadata": {
  "kernelspec": {
   "display_name": "Python 3 (ipykernel)",
   "language": "python",
   "name": "python3"
  },
  "language_info": {
   "codemirror_mode": {
    "name": "ipython",
    "version": 3
   },
   "file_extension": ".py",
   "mimetype": "text/x-python",
   "name": "python",
   "nbconvert_exporter": "python",
   "pygments_lexer": "ipython3",
   "version": "3.8.0"
  }
 },
 "nbformat": 4,
 "nbformat_minor": 5
}

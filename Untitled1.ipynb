{
 "cells": [
  {
   "cell_type": "code",
   "execution_count": 19,
   "id": "a1e164e0",
   "metadata": {},
   "outputs": [],
   "source": [
    "import re"
   ]
  },
  {
   "cell_type": "code",
   "execution_count": 29,
   "id": "77ea6f5d",
   "metadata": {},
   "outputs": [],
   "source": [
    "test_re = re.compile(r'\\brespond|reply urgently|immediately|urgent|immediate|earliest reply|response\\b')"
   ]
  },
  {
   "cell_type": "code",
   "execution_count": 30,
   "id": "4cf5bace",
   "metadata": {},
   "outputs": [],
   "source": [
    "test_str='please respond'"
   ]
  },
  {
   "cell_type": "code",
   "execution_count": 31,
   "id": "cb009191",
   "metadata": {},
   "outputs": [
    {
     "data": {
      "text/plain": [
       "<re.Match object; span=(7, 14), match='respond'>"
      ]
     },
     "execution_count": 31,
     "metadata": {},
     "output_type": "execute_result"
    }
   ],
   "source": [
    "test_re.search(test_str)"
   ]
  },
  {
   "cell_type": "code",
   "execution_count": 14,
   "id": "58aba4b8",
   "metadata": {},
   "outputs": [],
   "source": [
    "new_str = test_str.replace('\\\\\\\\', '\\\\')"
   ]
  },
  {
   "cell_type": "code",
   "execution_count": 16,
   "id": "89bfbb12",
   "metadata": {},
   "outputs": [],
   "source": [
    "test_re_2 = re.compile(new_str)"
   ]
  },
  {
   "cell_type": "code",
   "execution_count": 17,
   "id": "6892c795",
   "metadata": {},
   "outputs": [
    {
     "data": {
      "text/plain": [
       "<re.Match object; span=(0, 4), match='abcd'>"
      ]
     },
     "execution_count": 17,
     "metadata": {},
     "output_type": "execute_result"
    }
   ],
   "source": [
    "test_re_2.search('abcd')"
   ]
  },
  {
   "cell_type": "code",
   "execution_count": 18,
   "id": "19ca38ea",
   "metadata": {},
   "outputs": [
    {
     "data": {
      "text/plain": [
       "<re.Match object; span=(0, 4), match='abcd'>"
      ]
     },
     "execution_count": 18,
     "metadata": {},
     "output_type": "execute_result"
    }
   ],
   "source": [
    "test_re_3 = re.compile(test_str)\n",
    "test_re_3.search('abcd')"
   ]
  }
 ],
 "metadata": {
  "kernelspec": {
   "display_name": "Python 3 (ipykernel)",
   "language": "python",
   "name": "python3"
  },
  "language_info": {
   "codemirror_mode": {
    "name": "ipython",
    "version": 3
   },
   "file_extension": ".py",
   "mimetype": "text/x-python",
   "name": "python",
   "nbconvert_exporter": "python",
   "pygments_lexer": "ipython3",
   "version": "3.8.0"
  }
 },
 "nbformat": 4,
 "nbformat_minor": 5
}

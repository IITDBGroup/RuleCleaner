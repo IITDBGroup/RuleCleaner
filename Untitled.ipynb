{
 "cells": [
  {
   "cell_type": "code",
   "execution_count": 6,
   "id": "ae4c5f6a",
   "metadata": {},
   "outputs": [],
   "source": [
    "import pandas as pd\n",
    "import numpy as np\n",
    "import matplotlib.pyplot as plt\n",
    "import glob\n",
    "import seaborn as sns"
   ]
  },
  {
   "cell_type": "code",
   "execution_count": 10,
   "id": "0f01370c",
   "metadata": {},
   "outputs": [],
   "source": [
    "dfs = []\n",
    "\n",
    "for f in glob.glob('prune_only_*.csv'):\n",
    "    df = pd.read_csv(f)\n",
    "    size = f.split('.')[0].split('_')[-1]\n",
    "    df['num_dcs'] = size\n",
    "    dfs.append(df)\n",
    "\n",
    "df_full=pd.concat(dfs)"
   ]
  },
  {
   "cell_type": "code",
   "execution_count": 11,
   "id": "5142ee48",
   "metadata": {},
   "outputs": [
    {
     "data": {
      "text/html": [
       "<div>\n",
       "<style scoped>\n",
       "    .dataframe tbody tr th:only-of-type {\n",
       "        vertical-align: middle;\n",
       "    }\n",
       "\n",
       "    .dataframe tbody tr th {\n",
       "        vertical-align: top;\n",
       "    }\n",
       "\n",
       "    .dataframe thead th {\n",
       "        text-align: right;\n",
       "    }\n",
       "</style>\n",
       "<table border=\"1\" class=\"dataframe\">\n",
       "  <thead>\n",
       "    <tr style=\"text-align: right;\">\n",
       "      <th></th>\n",
       "      <th>tid</th>\n",
       "      <th>attr_name</th>\n",
       "      <th>rules_left</th>\n",
       "      <th>portion_left</th>\n",
       "      <th>num_dcs</th>\n",
       "    </tr>\n",
       "  </thead>\n",
       "  <tbody>\n",
       "    <tr>\n",
       "      <th>0</th>\n",
       "      <td>3</td>\n",
       "      <td>education</td>\n",
       "      <td>52</td>\n",
       "      <td>0.333333</td>\n",
       "      <td>156</td>\n",
       "    </tr>\n",
       "    <tr>\n",
       "      <th>1</th>\n",
       "      <td>66</td>\n",
       "      <td>education</td>\n",
       "      <td>52</td>\n",
       "      <td>0.333333</td>\n",
       "      <td>156</td>\n",
       "    </tr>\n",
       "    <tr>\n",
       "      <th>2</th>\n",
       "      <td>74</td>\n",
       "      <td>education</td>\n",
       "      <td>52</td>\n",
       "      <td>0.333333</td>\n",
       "      <td>156</td>\n",
       "    </tr>\n",
       "    <tr>\n",
       "      <th>3</th>\n",
       "      <td>83</td>\n",
       "      <td>education</td>\n",
       "      <td>52</td>\n",
       "      <td>0.333333</td>\n",
       "      <td>156</td>\n",
       "    </tr>\n",
       "    <tr>\n",
       "      <th>4</th>\n",
       "      <td>101</td>\n",
       "      <td>education</td>\n",
       "      <td>52</td>\n",
       "      <td>0.333333</td>\n",
       "      <td>156</td>\n",
       "    </tr>\n",
       "    <tr>\n",
       "      <th>...</th>\n",
       "      <td>...</td>\n",
       "      <td>...</td>\n",
       "      <td>...</td>\n",
       "      <td>...</td>\n",
       "      <td>...</td>\n",
       "    </tr>\n",
       "    <tr>\n",
       "      <th>353</th>\n",
       "      <td>483</td>\n",
       "      <td>workclass</td>\n",
       "      <td>14</td>\n",
       "      <td>0.280000</td>\n",
       "      <td>50</td>\n",
       "    </tr>\n",
       "    <tr>\n",
       "      <th>354</th>\n",
       "      <td>486</td>\n",
       "      <td>workclass</td>\n",
       "      <td>14</td>\n",
       "      <td>0.280000</td>\n",
       "      <td>50</td>\n",
       "    </tr>\n",
       "    <tr>\n",
       "      <th>355</th>\n",
       "      <td>487</td>\n",
       "      <td>workclass</td>\n",
       "      <td>14</td>\n",
       "      <td>0.280000</td>\n",
       "      <td>50</td>\n",
       "    </tr>\n",
       "    <tr>\n",
       "      <th>356</th>\n",
       "      <td>494</td>\n",
       "      <td>workclass</td>\n",
       "      <td>14</td>\n",
       "      <td>0.280000</td>\n",
       "      <td>50</td>\n",
       "    </tr>\n",
       "    <tr>\n",
       "      <th>357</th>\n",
       "      <td>499</td>\n",
       "      <td>workclass</td>\n",
       "      <td>14</td>\n",
       "      <td>0.280000</td>\n",
       "      <td>50</td>\n",
       "    </tr>\n",
       "  </tbody>\n",
       "</table>\n",
       "<p>1701 rows × 5 columns</p>\n",
       "</div>"
      ],
      "text/plain": [
       "     tid  attr_name  rules_left  portion_left num_dcs\n",
       "0      3  education          52      0.333333     156\n",
       "1     66  education          52      0.333333     156\n",
       "2     74  education          52      0.333333     156\n",
       "3     83  education          52      0.333333     156\n",
       "4    101  education          52      0.333333     156\n",
       "..   ...        ...         ...           ...     ...\n",
       "353  483  workclass          14      0.280000      50\n",
       "354  486  workclass          14      0.280000      50\n",
       "355  487  workclass          14      0.280000      50\n",
       "356  494  workclass          14      0.280000      50\n",
       "357  499  workclass          14      0.280000      50\n",
       "\n",
       "[1701 rows x 5 columns]"
      ]
     },
     "execution_count": 11,
     "metadata": {},
     "output_type": "execute_result"
    }
   ],
   "source": [
    "df_full"
   ]
  },
  {
   "cell_type": "code",
   "execution_count": 16,
   "id": "ea328740",
   "metadata": {},
   "outputs": [],
   "source": [
    "dc_10 = df_full.loc[df_full['num_dcs'] == '10', 'portion_left']"
   ]
  },
  {
   "cell_type": "code",
   "execution_count": 29,
   "id": "51fb4428",
   "metadata": {},
   "outputs": [
    {
     "data": {
      "image/png": "[encoded data removed]",
      "text/plain": [
       "<Figure size 640x480 with 1 Axes>"
      ]
     },
     "metadata": {},
     "output_type": "display_data"
    }
   ],
   "source": [
    "\n",
    "dc_10 = df_full.loc[df_full['num_dcs'] == '10', 'rules_left']\n",
    "dc_20 = df_full.loc[df_full['num_dcs'] == '20', 'rules_left']\n",
    "dc_30 = df_full.loc[df_full['num_dcs'] == '30', 'rules_left']\n",
    "dc_50 = df_full.loc[df_full['num_dcs'] == '50', 'rules_left']\n",
    "dc_100 = df_full.loc[df_full['num_dcs'] == '100', 'rules_left']\n",
    "dc_156 = df_full.loc[df_full['num_dcs'] == '156', 'rules_left']\n",
    "#add three histograms to one plot\n",
    "plt.hist(dc_10, alpha=0.5, label='10')\n",
    "plt.hist(dc_20, alpha=0.5, label='20')\n",
    "plt.hist(dc_30, alpha=0.5, label='30')\n",
    "plt.hist(dc_50, alpha=0.5, label='50')\n",
    "plt.hist(dc_100, alpha=0.5, label='100')\n",
    "plt.hist(dc_156, alpha=0.5, label='156')\n",
    "#add plot title and axis labels\n",
    "plt.title('Portions of full set of DCs after pruning')\n",
    "plt.xlabel('Percentage Left')\n",
    "plt.ylabel('Frequency')\n",
    "\n",
    "#add legend\n",
    "plt.legend(title='Team')\n",
    "\n",
    "#display plot\n",
    "plt.show()"
   ]
  },
  {
   "cell_type": "code",
   "execution_count": 30,
   "id": "bdf64f60",
   "metadata": {},
   "outputs": [
    {
     "data": {
      "text/plain": [
       "Text(0.5, 1.0, '156')"
      ]
     },
     "execution_count": 30,
     "metadata": {},
     "output_type": "execute_result"
    },
    {
     "data": {
      "image/png": "[encoded data removed]",
      "text/plain": [
       "<Figure size 640x480 with 6 Axes>"
      ]
     },
     "metadata": {},
     "output_type": "display_data"
    }
   ],
   "source": [
    "fig, axs = plt.subplots(nrows=3, ncols=2)\n",
    "axs = axs.flatten()\n",
    "\n",
    "# Plot the triangulation.\n",
    "j=0\n",
    "axs[0].hist(dc_10, alpha=0.5, label='10', bins=10)\n",
    "axs[0].set_title('10')\n",
    "axs[1].hist(dc_20, alpha=0.5, label='20', bins=10)\n",
    "axs[1].set_title('20')\n",
    "axs[2].hist(dc_30, alpha=0.5, label='30', bins=10)\n",
    "axs[2].set_title('30')\n",
    "axs[3].hist(dc_50, alpha=0.5, label='50', bins=10)\n",
    "axs[3].set_title('50')\n",
    "axs[4].hist(dc_100, alpha=0.5, label='100', bins=10)\n",
    "axs[4].set_title('100')\n",
    "axs[5].hist(dc_156, alpha=0.5, label='156', bins=10)\n",
    "axs[5].set_title('156')\n",
    "\n"
   ]
  },
  {
   "cell_type": "code",
   "execution_count": null,
   "id": "38c9c39f",
   "metadata": {},
   "outputs": [],
   "source": []
  }
 ],
 "metadata": {
  "kernelspec": {
   "display_name": "Python 3 (ipykernel)",
   "language": "python",
   "name": "python3"
  },
  "language_info": {
   "codemirror_mode": {
    "name": "ipython",
    "version": 3
   },
   "file_extension": ".py",
   "mimetype": "text/x-python",
   "name": "python",
   "nbconvert_exporter": "python",
   "pygments_lexer": "ipython3",
   "version": "3.8.0"
  }
 },
 "nbformat": 4,
 "nbformat_minor": 5
}

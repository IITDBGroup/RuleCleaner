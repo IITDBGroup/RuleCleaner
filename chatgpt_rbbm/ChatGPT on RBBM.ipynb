{
 "cells": [
  {
   "cell_type": "code",
   "execution_count": 15,
   "id": "ddc80d9b",
   "metadata": {},
   "outputs": [],
   "source": [
    "import sys\n",
    "# Add the desired path to sys.path\n",
    "desired_path = '/home/opc/chenjie/'\n",
    "sys.path.append(desired_path)\n",
    "import pandas as pd\n",
    "import json"
   ]
  },
  {
   "cell_type": "code",
   "execution_count": 16,
   "id": "6af29938",
   "metadata": {},
   "outputs": [],
   "source": [
    "from LLMDP import main\n",
    "from RBBM.chatgpt_rbbm.prepare_datasculpt import preprocess_data_to_wrench_format"
   ]
  },
  {
   "cell_type": "code",
   "execution_count": 17,
   "id": "6e3fba3d",
   "metadata": {},
   "outputs": [],
   "source": [
    "dataset_dir = '/home/opc/chenjie/RBBM/chatgpt_rbbm/dataset/'"
   ]
  },
  {
   "cell_type": "code",
   "execution_count": 18,
   "id": "7a4030be",
   "metadata": {},
   "outputs": [],
   "source": [
    "dataset_names = [\n",
    "'youtube_new',\n",
    "]"
   ]
  },
  {
   "cell_type": "code",
   "execution_count": 19,
   "id": "db7b714e",
   "metadata": {},
   "outputs": [],
   "source": [
    "dataset_label_dicts = {\n",
    "    'youtube_new':{0:'ham',1:'spam'},\n",
    "    'amazon':{0:'positive',1:'negative'},\n",
    "    'amazon05':{0:'positive',1:'negative'},\n",
    "    'pa':{0:'painter',1:'architect'},\n",
    "    'pt':{0:'teacher',1:'professor'}\n",
    "}"
   ]
  },
  {
   "cell_type": "code",
   "execution_count": 24,
   "id": "fe944c67",
   "metadata": {},
   "outputs": [
    {
     "name": "stdout",
     "output_type": "stream",
     "text": [
      "Removed file: ../../LLMDP/data/wrench_data/youtube_new/label.json\n",
      "Removed file: ../../LLMDP/data/wrench_data/youtube_new/train.json\n",
      "Removed file: ../../LLMDP/data/wrench_data/youtube_new/test.json\n",
      "Removed file: ../../LLMDP/data/wrench_data/youtube_new/valid.json\n",
      "Removed file: ../../LLMDP/data/wrench_data/youtube_new/train_bert.pkl\n",
      "Removed file: ../../LLMDP/data/wrench_data/youtube_new/valid_bert.pkl\n",
      "Removed file: ../../LLMDP/data/wrench_data/youtube_new/test_bert.pkl\n",
      "Removed file: ../../LLMDP/data/wrench_data/youtube_new/train_index.json\n",
      "Removed file: ../../LLMDP/data/wrench_data/youtube_new/valid_index.json\n",
      "Removed file: ../../LLMDP/data/wrench_data/youtube_new/test_index.json\n",
      "task='LF creation for youtube_new dataset'\n",
      "task_info='In each iteration, the user will provide a sequence and a label indicating which class the sequence belongs to'\n",
      "class_info=\n",
      "\"0 for ham.\" \\\n",
      "\"1 for spam.\" \\\n"
     ]
    }
   ],
   "source": [
    "for d in dataset_names:\n",
    "    preprocess_data_to_wrench_format(dataset_name=d, \n",
    "                                     dataset_path=dataset_dir, \n",
    "                                     label_dict=dataset_label_dicts[d],\n",
    "                                     num_class=2,\n",
    "                                     train_sample_per_class=250, test_sample_per_class=250, \n",
    "                                     valid_sample_per_class=250)"
   ]
  },
  {
   "cell_type": "code",
   "execution_count": 21,
   "id": "2bdb6bf9",
   "metadata": {},
   "outputs": [],
   "source": [
    "import pickle"
   ]
  },
  {
   "cell_type": "code",
   "execution_count": null,
   "id": "3e568059",
   "metadata": {},
   "outputs": [],
   "source": [
    "len(res)"
   ]
  },
  {
   "cell_type": "code",
   "execution_count": null,
   "id": "cf1e6c05",
   "metadata": {},
   "outputs": [],
   "source": []
  },
  {
   "cell_type": "code",
   "execution_count": null,
   "id": "1b43bee0",
   "metadata": {},
   "outputs": [],
   "source": [
    "res\n"
   ]
  },
  {
   "cell_type": "code",
   "execution_count": null,
   "id": "3d7546e8",
   "metadata": {},
   "outputs": [],
   "source": []
  },
  {
   "cell_type": "code",
   "execution_count": null,
   "id": "5b63723a",
   "metadata": {},
   "outputs": [],
   "source": [
    "\n"
   ]
  },
  {
   "cell_type": "code",
   "execution_count": null,
   "id": "6854df08",
   "metadata": {},
   "outputs": [],
   "source": [
    "\n"
   ]
  },
  {
   "cell_type": "code",
   "execution_count": null,
   "id": "713c017f",
   "metadata": {},
   "outputs": [],
   "source": []
  },
  {
   "cell_type": "code",
   "execution_count": null,
   "id": "5b9abfe8",
   "metadata": {},
   "outputs": [],
   "source": []
  }
 ],
 "metadata": {
  "kernelspec": {
   "display_name": "Python 3 (ipykernel)",
   "language": "python",
   "name": "python3"
  },
  "language_info": {
   "codemirror_mode": {
    "name": "ipython",
    "version": 3
   },
   "file_extension": ".py",
   "mimetype": "text/x-python",
   "name": "python",
   "nbconvert_exporter": "python",
   "pygments_lexer": "ipython3",
   "version": "3.8.0"
  }
 },
 "nbformat": 4,
 "nbformat_minor": 5
}
